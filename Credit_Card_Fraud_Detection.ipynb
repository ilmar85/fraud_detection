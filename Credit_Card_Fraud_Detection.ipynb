{
  "nbformat": 4,
  "nbformat_minor": 0,
  "metadata": {
    "colab": {
      "name": "Credit_Card_Fraud_Detection.ipynb",
      "provenance": [],
      "collapsed_sections": [],
      "include_colab_link": true
    },
    "kernelspec": {
      "display_name": "Python 3",
      "name": "python3"
    }
  },
  "cells": [
    {
      "cell_type": "markdown",
      "metadata": {
        "id": "view-in-github",
        "colab_type": "text"
      },
      "source": [
        "<a href=\"https://colab.research.google.com/github/ilmar85/fraud_detection/blob/main/Credit_Card_Fraud_Detection.ipynb\" target=\"_parent\"><img src=\"https://colab.research.google.com/assets/colab-badge.svg\" alt=\"Open In Colab\"/></a>"
      ]
    },
    {
      "cell_type": "markdown",
      "metadata": {
        "id": "AFQUFEg04VJS"
      },
      "source": [
        "# **Обнаружение мошенничества с  банковскими транзакциями**"
      ]
    },
    {
      "cell_type": "markdown",
      "metadata": {
        "id": "Ej7nAKHm9AmR"
      },
      "source": [
        "**Обнаружение мошенничест производилось путем:**\n",
        "*   Классификации\n",
        "*   Поиском выбросов\n",
        "*   Нейронной сети"
      ]
    },
    {
      "cell_type": "markdown",
      "metadata": {
        "id": "mYuDGtgh6gFq"
      },
      "source": [
        "Анализ и предобработка:\n",
        "\n",
        "\n",
        "\n",
        "\n"
      ]
    },
    {
      "cell_type": "code",
      "metadata": {
        "id": "MYQloSevdvB7"
      },
      "source": [
        "from datetime import datetime\n",
        "import pandas as pd\n",
        "import numpy as np\n",
        "import seaborn as sns\n",
        "import os\n",
        "import random\n",
        "import matplotlib\n",
        "import matplotlib.pyplot as plt\n",
        "from scipy import sparse\n",
        "from sklearn.model_selection import KFold\n",
        "from sklearn.model_selection import cross_val_score\n",
        "from sklearn.metrics import roc_auc_score\n",
        "from sklearn.metrics import classification_report\n",
        "from sklearn.metrics import confusion_matrix\n",
        "from sklearn.linear_model import LogisticRegression\n",
        "from sklearn.discriminant_analysis import LinearDiscriminantAnalysis\n",
        "from sklearn.neighbors import KNeighborsClassifier\n",
        "from sklearn.tree import DecisionTreeClassifier\n",
        "from sklearn.svm import SVC\n",
        "from sklearn import svm\n",
        "from xgboost import XGBClassifier\n",
        "from sklearn.ensemble import RandomForestClassifier\n",
        "from sklearn.metrics import classification_report\n",
        "from sklearn.metrics import confusion_matrix\n",
        "from sklearn.metrics import f1_score\n",
        "from sklearn.metrics import accuracy_score\n",
        "from sklearn.metrics import recall_score\n",
        "from sklearn.metrics import precision_score, precision_recall_curve\n",
        "from sklearn.metrics import roc_auc_score, roc_curve, auc, average_precision_score\n",
        "from sklearn.preprocessing import StandardScaler\n",
        "from sklearn.model_selection import train_test_split\n",
        "from mlxtend.plotting import plot_confusion_matrix\n",
        "import warnings\n",
        "import itertools\n",
        "warnings.filterwarnings('ignore')\n"
      ],
      "execution_count": null,
      "outputs": []
    },
    {
      "cell_type": "code",
      "metadata": {
        "id": "DxTs-9wc0XX7",
        "colab": {
          "base_uri": "https://localhost:8080/"
        },
        "outputId": "f81d7fe0-ae2e-4e13-cc40-20c3d67a78f4"
      },
      "source": [
        "from google.colab import drive\n",
        "drive.mount('/content/drive')"
      ],
      "execution_count": null,
      "outputs": [
        {
          "output_type": "stream",
          "text": [
            "Drive already mounted at /content/drive; to attempt to forcibly remount, call drive.mount(\"/content/drive\", force_remount=True).\n"
          ],
          "name": "stdout"
        }
      ]
    },
    {
      "cell_type": "code",
      "metadata": {
        "id": "Pkqw8FRf3D4M"
      },
      "source": [
        "# !wget https://www.dropbox.com/s/kvdn3ufqe1jlau3/creditcard.csv"
      ],
      "execution_count": null,
      "outputs": []
    },
    {
      "cell_type": "code",
      "metadata": {
        "id": "MuklyjF00puk"
      },
      "source": [
        "data = pd.read_csv(\"/content/drive/MyDrive/Colab Notebooks/set.csv\")"
      ],
      "execution_count": null,
      "outputs": []
    },
    {
      "cell_type": "code",
      "metadata": {
        "id": "FKVyO-sAdwdv"
      },
      "source": [
        "# data = pd.read_csv(\"creditcard.csv\")"
      ],
      "execution_count": null,
      "outputs": []
    },
    {
      "cell_type": "code",
      "metadata": {
        "id": "Yclptm1JmPYG",
        "colab": {
          "base_uri": "https://localhost:8080/",
          "height": 456
        },
        "outputId": "bf7fa270-0669-45c6-b382-28f7d04e1d54"
      },
      "source": [
        "data"
      ],
      "execution_count": null,
      "outputs": [
        {
          "output_type": "execute_result",
          "data": {
            "text/html": [
              "<div>\n",
              "<style scoped>\n",
              "    .dataframe tbody tr th:only-of-type {\n",
              "        vertical-align: middle;\n",
              "    }\n",
              "\n",
              "    .dataframe tbody tr th {\n",
              "        vertical-align: top;\n",
              "    }\n",
              "\n",
              "    .dataframe thead th {\n",
              "        text-align: right;\n",
              "    }\n",
              "</style>\n",
              "<table border=\"1\" class=\"dataframe\">\n",
              "  <thead>\n",
              "    <tr style=\"text-align: right;\">\n",
              "      <th></th>\n",
              "      <th>client_id</th>\n",
              "      <th>operation_type</th>\n",
              "      <th>Direction_Of_Transaction</th>\n",
              "      <th>Date_Of_transaction</th>\n",
              "      <th>Summ</th>\n",
              "      <th>currency</th>\n",
              "      <th>summ_inCurrency</th>\n",
              "      <th>currency_of_payment_system</th>\n",
              "      <th>MCC-code_of_transaction</th>\n",
              "      <th>MCC_name_of_transaction</th>\n",
              "      <th>Business_type</th>\n",
              "      <th>ATM_Purpose</th>\n",
              "      <th>ATM_Other_purpose</th>\n",
              "      <th>Card_type</th>\n",
              "      <th>Class</th>\n",
              "    </tr>\n",
              "  </thead>\n",
              "  <tbody>\n",
              "    <tr>\n",
              "      <th>0</th>\n",
              "      <td>id_1912</td>\n",
              "      <td>Transaction</td>\n",
              "      <td>-1</td>\n",
              "      <td>08.11.2019</td>\n",
              "      <td>69</td>\n",
              "      <td>Russian_Ruble</td>\n",
              "      <td>69</td>\n",
              "      <td>Russian_Ruble</td>\n",
              "      <td>4899</td>\n",
              "      <td>4899_Cable_Services</td>\n",
              "      <td>Покупка_в_ТСП_через_чужой_POS</td>\n",
              "      <td>0</td>\n",
              "      <td>0</td>\n",
              "      <td>Дебетовая_карта</td>\n",
              "      <td>1</td>\n",
              "    </tr>\n",
              "    <tr>\n",
              "      <th>1</th>\n",
              "      <td>id_1912</td>\n",
              "      <td>Transaction</td>\n",
              "      <td>-1</td>\n",
              "      <td>28.11.2019</td>\n",
              "      <td>80</td>\n",
              "      <td>Russian_Ruble</td>\n",
              "      <td>80</td>\n",
              "      <td>Russian_Ruble</td>\n",
              "      <td>6012</td>\n",
              "      <td>6012_Member_Financial_Institutio</td>\n",
              "      <td>Прочее</td>\n",
              "      <td>0</td>\n",
              "      <td>0</td>\n",
              "      <td>Дебетовая_карта</td>\n",
              "      <td>1</td>\n",
              "    </tr>\n",
              "    <tr>\n",
              "      <th>2</th>\n",
              "      <td>id_0874</td>\n",
              "      <td>Transaction</td>\n",
              "      <td>1</td>\n",
              "      <td>18.10.2019</td>\n",
              "      <td>13000</td>\n",
              "      <td>Russian_Ruble</td>\n",
              "      <td>13000</td>\n",
              "      <td>Russian_Ruble</td>\n",
              "      <td>6012</td>\n",
              "      <td>6012_Member_Financial_Institutio</td>\n",
              "      <td>Зачисление_средств_на_карточный_счет_через_инф...</td>\n",
              "      <td>0</td>\n",
              "      <td>0</td>\n",
              "      <td>Дебетовая_карта</td>\n",
              "      <td>1</td>\n",
              "    </tr>\n",
              "    <tr>\n",
              "      <th>3</th>\n",
              "      <td>id_0874</td>\n",
              "      <td>Transaction</td>\n",
              "      <td>-1</td>\n",
              "      <td>03.12.2019</td>\n",
              "      <td>113.24</td>\n",
              "      <td>Russian_Ruble</td>\n",
              "      <td>113.24</td>\n",
              "      <td>Russian_Ruble</td>\n",
              "      <td>5411</td>\n",
              "      <td>5411_Grocery_Stores.supermarkets</td>\n",
              "      <td>Покупка_в_ТСП_через_POS_АББ</td>\n",
              "      <td>0</td>\n",
              "      <td>0</td>\n",
              "      <td>Дебетовая_карта</td>\n",
              "      <td>1</td>\n",
              "    </tr>\n",
              "    <tr>\n",
              "      <th>4</th>\n",
              "      <td>id_0874</td>\n",
              "      <td>Transaction</td>\n",
              "      <td>1</td>\n",
              "      <td>30.10.2019</td>\n",
              "      <td>5000</td>\n",
              "      <td>Russian_Ruble</td>\n",
              "      <td>5000</td>\n",
              "      <td>Russian_Ruble</td>\n",
              "      <td>6012</td>\n",
              "      <td>6012_Member_Financial_Institutio</td>\n",
              "      <td>Зачисление_средств_на_карточный_счет_через_инф...</td>\n",
              "      <td>0</td>\n",
              "      <td>0</td>\n",
              "      <td>Дебетовая_карта</td>\n",
              "      <td>1</td>\n",
              "    </tr>\n",
              "    <tr>\n",
              "      <th>...</th>\n",
              "      <td>...</td>\n",
              "      <td>...</td>\n",
              "      <td>...</td>\n",
              "      <td>...</td>\n",
              "      <td>...</td>\n",
              "      <td>...</td>\n",
              "      <td>...</td>\n",
              "      <td>...</td>\n",
              "      <td>...</td>\n",
              "      <td>...</td>\n",
              "      <td>...</td>\n",
              "      <td>...</td>\n",
              "      <td>...</td>\n",
              "      <td>...</td>\n",
              "      <td>...</td>\n",
              "    </tr>\n",
              "    <tr>\n",
              "      <th>935551</th>\n",
              "      <td>Id_3836</td>\n",
              "      <td>Transaction</td>\n",
              "      <td>-1</td>\n",
              "      <td>43815</td>\n",
              "      <td>644233.69</td>\n",
              "      <td>Russian_Ruble</td>\n",
              "      <td>644233.69</td>\n",
              "      <td>644233.69</td>\n",
              "      <td>6012</td>\n",
              "      <td>6012_Member_Financial_Institutio</td>\n",
              "      <td>Перевод_от_клиента_АББ_НЕ_клиенту_АББ_через_ин...</td>\n",
              "      <td>0</td>\n",
              "      <td>0</td>\n",
              "      <td>Дебетовая_карта</td>\n",
              "      <td>0</td>\n",
              "    </tr>\n",
              "    <tr>\n",
              "      <th>935552</th>\n",
              "      <td>Id_1846</td>\n",
              "      <td>Transaction</td>\n",
              "      <td>-1</td>\n",
              "      <td>43811</td>\n",
              "      <td>269927.97</td>\n",
              "      <td>Russian_Ruble</td>\n",
              "      <td>269927.97</td>\n",
              "      <td>269927.97</td>\n",
              "      <td>6012</td>\n",
              "      <td>6012_Member_Financial_Institutio</td>\n",
              "      <td>Перевод_от_клиента_АББ_НЕ_клиенту_АББ_через_ин...</td>\n",
              "      <td>0</td>\n",
              "      <td>0</td>\n",
              "      <td>Дебетовая_карта</td>\n",
              "      <td>0</td>\n",
              "    </tr>\n",
              "    <tr>\n",
              "      <th>935553</th>\n",
              "      <td>Id_8126</td>\n",
              "      <td>Transaction</td>\n",
              "      <td>-1</td>\n",
              "      <td>43813</td>\n",
              "      <td>721435.41</td>\n",
              "      <td>Russian_Ruble</td>\n",
              "      <td>721435.41</td>\n",
              "      <td>721435.41</td>\n",
              "      <td>6012</td>\n",
              "      <td>6012_Member_Financial_Institutio</td>\n",
              "      <td>Перевод_от_клиента_АББ_НЕ_клиенту_АББ_через_ин...</td>\n",
              "      <td>0</td>\n",
              "      <td>0</td>\n",
              "      <td>Дебетовая_карта</td>\n",
              "      <td>0</td>\n",
              "    </tr>\n",
              "    <tr>\n",
              "      <th>935554</th>\n",
              "      <td>Id_9369</td>\n",
              "      <td>Transaction</td>\n",
              "      <td>-1</td>\n",
              "      <td>43777</td>\n",
              "      <td>774410.24</td>\n",
              "      <td>Russian_Ruble</td>\n",
              "      <td>774410.24</td>\n",
              "      <td>774410.24</td>\n",
              "      <td>6012</td>\n",
              "      <td>6012_Member_Financial_Institutio</td>\n",
              "      <td>Перевод_от_клиента_АББ_НЕ_клиенту_АББ_через_ин...</td>\n",
              "      <td>0</td>\n",
              "      <td>0</td>\n",
              "      <td>Дебетовая_карта</td>\n",
              "      <td>0</td>\n",
              "    </tr>\n",
              "    <tr>\n",
              "      <th>935555</th>\n",
              "      <td>Id_6034</td>\n",
              "      <td>Transaction</td>\n",
              "      <td>-1</td>\n",
              "      <td>43815</td>\n",
              "      <td>755215.18</td>\n",
              "      <td>Russian_Ruble</td>\n",
              "      <td>755215.18</td>\n",
              "      <td>755215.18</td>\n",
              "      <td>6012</td>\n",
              "      <td>6012_Member_Financial_Institutio</td>\n",
              "      <td>Перевод_от_клиента_АББ_НЕ_клиенту_АББ_через_ин...</td>\n",
              "      <td>0</td>\n",
              "      <td>0</td>\n",
              "      <td>Дебетовая_карта</td>\n",
              "      <td>0</td>\n",
              "    </tr>\n",
              "  </tbody>\n",
              "</table>\n",
              "<p>935556 rows × 15 columns</p>\n",
              "</div>"
            ],
            "text/plain": [
              "       client_id operation_type  ...        Card_type Class\n",
              "0        id_1912    Transaction  ...  Дебетовая_карта     1\n",
              "1        id_1912    Transaction  ...  Дебетовая_карта     1\n",
              "2        id_0874    Transaction  ...  Дебетовая_карта     1\n",
              "3        id_0874    Transaction  ...  Дебетовая_карта     1\n",
              "4        id_0874    Transaction  ...  Дебетовая_карта     1\n",
              "...          ...            ...  ...              ...   ...\n",
              "935551   Id_3836    Transaction  ...  Дебетовая_карта     0\n",
              "935552   Id_1846    Transaction  ...  Дебетовая_карта     0\n",
              "935553   Id_8126    Transaction  ...  Дебетовая_карта     0\n",
              "935554   Id_9369    Transaction  ...  Дебетовая_карта     0\n",
              "935555   Id_6034    Transaction  ...  Дебетовая_карта     0\n",
              "\n",
              "[935556 rows x 15 columns]"
            ]
          },
          "metadata": {
            "tags": []
          },
          "execution_count": 77
        }
      ]
    },
    {
      "cell_type": "code",
      "metadata": {
        "colab": {
          "base_uri": "https://localhost:8080/",
          "height": 1000
        },
        "id": "XyxU70pCDPts",
        "outputId": "cd8b3794-dfbd-4798-ffa1-fde1228cba23"
      },
      "source": [
        "df=data\n",
        "df['Summ'].values.reshape(-1, 1)\n",
        "df['Summ']=df['Summ'].str.replace('[^0-9]', '0') \n",
        "print(df)\n",
        "df = df.drop(['Date_Of_transaction'], axis=1) \n",
        "stacked=data.stack()\n",
        "data=pd.Series(stacked.factorize()[0],index=stacked.index,).unstack()\n",
        "print(data)\n",
        "i=data[:1]['Class'].values[0]\n",
        "data['Class']=np.where(data['Class']==i,1,0)\n",
        "data['Summ'] = StandardScaler().fit_transform(data['Summ'].values.reshape(-1, 1))\n",
        "print(data)\n",
        "data.dropna()"
      ],
      "execution_count": null,
      "outputs": [
        {
          "output_type": "stream",
          "text": [
            "       client_id operation_type  ...        Card_type Class\n",
            "0        id_1912    Transaction  ...  Дебетовая_карта     1\n",
            "1        id_1912    Transaction  ...  Дебетовая_карта     1\n",
            "2        id_0874    Transaction  ...  Дебетовая_карта     1\n",
            "3        id_0874    Transaction  ...  Дебетовая_карта     1\n",
            "4        id_0874    Transaction  ...  Дебетовая_карта     1\n",
            "...          ...            ...  ...              ...   ...\n",
            "935551   Id_3836    Transaction  ...  Дебетовая_карта     0\n",
            "935552   Id_1846    Transaction  ...  Дебетовая_карта     0\n",
            "935553   Id_8126    Transaction  ...  Дебетовая_карта     0\n",
            "935554   Id_9369    Transaction  ...  Дебетовая_карта     0\n",
            "935555   Id_6034    Transaction  ...  Дебетовая_карта     0\n",
            "\n",
            "[935556 rows x 15 columns]\n",
            "        client_id  operation_type  ...  Card_type  Class\n",
            "0             0.0             1.0  ...       10.0   11.0\n",
            "1             0.0             1.0  ...       10.0   11.0\n",
            "2            17.0             1.0  ...       10.0   11.0\n",
            "3            17.0             1.0  ...       10.0   11.0\n",
            "4            17.0             1.0  ...       10.0   11.0\n",
            "...           ...             ...  ...        ...    ...\n",
            "935551   252629.0             1.0  ...       10.0    9.0\n",
            "935552   252632.0             1.0  ...       10.0    9.0\n",
            "935553   252635.0             1.0  ...       10.0    9.0\n",
            "935554   252638.0             1.0  ...       10.0    9.0\n",
            "935555   252641.0             1.0  ...       10.0    9.0\n",
            "\n",
            "[935556 rows x 15 columns]\n",
            "        client_id  operation_type  ...  Card_type  Class\n",
            "0             0.0             1.0  ...       10.0      1\n",
            "1             0.0             1.0  ...       10.0      1\n",
            "2            17.0             1.0  ...       10.0      1\n",
            "3            17.0             1.0  ...       10.0      1\n",
            "4            17.0             1.0  ...       10.0      1\n",
            "...           ...             ...  ...        ...    ...\n",
            "935551   252629.0             1.0  ...       10.0      0\n",
            "935552   252632.0             1.0  ...       10.0      0\n",
            "935553   252635.0             1.0  ...       10.0      0\n",
            "935554   252638.0             1.0  ...       10.0      0\n",
            "935555   252641.0             1.0  ...       10.0      0\n",
            "\n",
            "[935556 rows x 15 columns]\n"
          ],
          "name": "stdout"
        },
        {
          "output_type": "execute_result",
          "data": {
            "text/html": [
              "<div>\n",
              "<style scoped>\n",
              "    .dataframe tbody tr th:only-of-type {\n",
              "        vertical-align: middle;\n",
              "    }\n",
              "\n",
              "    .dataframe tbody tr th {\n",
              "        vertical-align: top;\n",
              "    }\n",
              "\n",
              "    .dataframe thead th {\n",
              "        text-align: right;\n",
              "    }\n",
              "</style>\n",
              "<table border=\"1\" class=\"dataframe\">\n",
              "  <thead>\n",
              "    <tr style=\"text-align: right;\">\n",
              "      <th></th>\n",
              "      <th>client_id</th>\n",
              "      <th>operation_type</th>\n",
              "      <th>Direction_Of_Transaction</th>\n",
              "      <th>Date_Of_transaction</th>\n",
              "      <th>Summ</th>\n",
              "      <th>currency</th>\n",
              "      <th>summ_inCurrency</th>\n",
              "      <th>currency_of_payment_system</th>\n",
              "      <th>MCC-code_of_transaction</th>\n",
              "      <th>MCC_name_of_transaction</th>\n",
              "      <th>Business_type</th>\n",
              "      <th>ATM_Purpose</th>\n",
              "      <th>ATM_Other_purpose</th>\n",
              "      <th>Card_type</th>\n",
              "      <th>Class</th>\n",
              "    </tr>\n",
              "  </thead>\n",
              "  <tbody>\n",
              "    <tr>\n",
              "      <th>0</th>\n",
              "      <td>0.0</td>\n",
              "      <td>1.0</td>\n",
              "      <td>2.0</td>\n",
              "      <td>3.0</td>\n",
              "      <td>-0.505253</td>\n",
              "      <td>5.0</td>\n",
              "      <td>4.0</td>\n",
              "      <td>5.0</td>\n",
              "      <td>6.0</td>\n",
              "      <td>7.0</td>\n",
              "      <td>8.0</td>\n",
              "      <td>9.0</td>\n",
              "      <td>9.0</td>\n",
              "      <td>10.0</td>\n",
              "      <td>1</td>\n",
              "    </tr>\n",
              "    <tr>\n",
              "      <th>1</th>\n",
              "      <td>0.0</td>\n",
              "      <td>1.0</td>\n",
              "      <td>2.0</td>\n",
              "      <td>12.0</td>\n",
              "      <td>-0.505090</td>\n",
              "      <td>5.0</td>\n",
              "      <td>13.0</td>\n",
              "      <td>5.0</td>\n",
              "      <td>14.0</td>\n",
              "      <td>15.0</td>\n",
              "      <td>16.0</td>\n",
              "      <td>9.0</td>\n",
              "      <td>9.0</td>\n",
              "      <td>10.0</td>\n",
              "      <td>1</td>\n",
              "    </tr>\n",
              "    <tr>\n",
              "      <th>2</th>\n",
              "      <td>17.0</td>\n",
              "      <td>1.0</td>\n",
              "      <td>11.0</td>\n",
              "      <td>18.0</td>\n",
              "      <td>-0.504980</td>\n",
              "      <td>5.0</td>\n",
              "      <td>19.0</td>\n",
              "      <td>5.0</td>\n",
              "      <td>14.0</td>\n",
              "      <td>15.0</td>\n",
              "      <td>20.0</td>\n",
              "      <td>9.0</td>\n",
              "      <td>9.0</td>\n",
              "      <td>10.0</td>\n",
              "      <td>1</td>\n",
              "    </tr>\n",
              "    <tr>\n",
              "      <th>3</th>\n",
              "      <td>17.0</td>\n",
              "      <td>1.0</td>\n",
              "      <td>2.0</td>\n",
              "      <td>21.0</td>\n",
              "      <td>-0.504926</td>\n",
              "      <td>5.0</td>\n",
              "      <td>23.0</td>\n",
              "      <td>5.0</td>\n",
              "      <td>24.0</td>\n",
              "      <td>25.0</td>\n",
              "      <td>26.0</td>\n",
              "      <td>9.0</td>\n",
              "      <td>9.0</td>\n",
              "      <td>10.0</td>\n",
              "      <td>1</td>\n",
              "    </tr>\n",
              "    <tr>\n",
              "      <th>4</th>\n",
              "      <td>17.0</td>\n",
              "      <td>1.0</td>\n",
              "      <td>11.0</td>\n",
              "      <td>27.0</td>\n",
              "      <td>-0.504817</td>\n",
              "      <td>5.0</td>\n",
              "      <td>28.0</td>\n",
              "      <td>5.0</td>\n",
              "      <td>14.0</td>\n",
              "      <td>15.0</td>\n",
              "      <td>20.0</td>\n",
              "      <td>9.0</td>\n",
              "      <td>9.0</td>\n",
              "      <td>10.0</td>\n",
              "      <td>1</td>\n",
              "    </tr>\n",
              "    <tr>\n",
              "      <th>...</th>\n",
              "      <td>...</td>\n",
              "      <td>...</td>\n",
              "      <td>...</td>\n",
              "      <td>...</td>\n",
              "      <td>...</td>\n",
              "      <td>...</td>\n",
              "      <td>...</td>\n",
              "      <td>...</td>\n",
              "      <td>...</td>\n",
              "      <td>...</td>\n",
              "      <td>...</td>\n",
              "      <td>...</td>\n",
              "      <td>...</td>\n",
              "      <td>...</td>\n",
              "      <td>...</td>\n",
              "    </tr>\n",
              "    <tr>\n",
              "      <th>935551</th>\n",
              "      <td>252629.0</td>\n",
              "      <td>1.0</td>\n",
              "      <td>2.0</td>\n",
              "      <td>249738.0</td>\n",
              "      <td>4.086183</td>\n",
              "      <td>5.0</td>\n",
              "      <td>252631.0</td>\n",
              "      <td>252631.0</td>\n",
              "      <td>14.0</td>\n",
              "      <td>15.0</td>\n",
              "      <td>251545.0</td>\n",
              "      <td>9.0</td>\n",
              "      <td>9.0</td>\n",
              "      <td>10.0</td>\n",
              "      <td>0</td>\n",
              "    </tr>\n",
              "    <tr>\n",
              "      <th>935552</th>\n",
              "      <td>252632.0</td>\n",
              "      <td>1.0</td>\n",
              "      <td>2.0</td>\n",
              "      <td>250467.0</td>\n",
              "      <td>4.086238</td>\n",
              "      <td>5.0</td>\n",
              "      <td>252634.0</td>\n",
              "      <td>252634.0</td>\n",
              "      <td>14.0</td>\n",
              "      <td>15.0</td>\n",
              "      <td>251545.0</td>\n",
              "      <td>9.0</td>\n",
              "      <td>9.0</td>\n",
              "      <td>10.0</td>\n",
              "      <td>0</td>\n",
              "    </tr>\n",
              "    <tr>\n",
              "      <th>935553</th>\n",
              "      <td>252635.0</td>\n",
              "      <td>1.0</td>\n",
              "      <td>2.0</td>\n",
              "      <td>250157.0</td>\n",
              "      <td>4.086292</td>\n",
              "      <td>5.0</td>\n",
              "      <td>252637.0</td>\n",
              "      <td>252637.0</td>\n",
              "      <td>14.0</td>\n",
              "      <td>15.0</td>\n",
              "      <td>251545.0</td>\n",
              "      <td>9.0</td>\n",
              "      <td>9.0</td>\n",
              "      <td>10.0</td>\n",
              "      <td>0</td>\n",
              "    </tr>\n",
              "    <tr>\n",
              "      <th>935554</th>\n",
              "      <td>252638.0</td>\n",
              "      <td>1.0</td>\n",
              "      <td>2.0</td>\n",
              "      <td>249548.0</td>\n",
              "      <td>4.086347</td>\n",
              "      <td>5.0</td>\n",
              "      <td>252640.0</td>\n",
              "      <td>252640.0</td>\n",
              "      <td>14.0</td>\n",
              "      <td>15.0</td>\n",
              "      <td>251545.0</td>\n",
              "      <td>9.0</td>\n",
              "      <td>9.0</td>\n",
              "      <td>10.0</td>\n",
              "      <td>0</td>\n",
              "    </tr>\n",
              "    <tr>\n",
              "      <th>935555</th>\n",
              "      <td>252641.0</td>\n",
              "      <td>1.0</td>\n",
              "      <td>2.0</td>\n",
              "      <td>249738.0</td>\n",
              "      <td>4.086401</td>\n",
              "      <td>5.0</td>\n",
              "      <td>252643.0</td>\n",
              "      <td>252643.0</td>\n",
              "      <td>14.0</td>\n",
              "      <td>15.0</td>\n",
              "      <td>251545.0</td>\n",
              "      <td>9.0</td>\n",
              "      <td>9.0</td>\n",
              "      <td>10.0</td>\n",
              "      <td>0</td>\n",
              "    </tr>\n",
              "  </tbody>\n",
              "</table>\n",
              "<p>907064 rows × 15 columns</p>\n",
              "</div>"
            ],
            "text/plain": [
              "        client_id  operation_type  ...  Card_type  Class\n",
              "0             0.0             1.0  ...       10.0      1\n",
              "1             0.0             1.0  ...       10.0      1\n",
              "2            17.0             1.0  ...       10.0      1\n",
              "3            17.0             1.0  ...       10.0      1\n",
              "4            17.0             1.0  ...       10.0      1\n",
              "...           ...             ...  ...        ...    ...\n",
              "935551   252629.0             1.0  ...       10.0      0\n",
              "935552   252632.0             1.0  ...       10.0      0\n",
              "935553   252635.0             1.0  ...       10.0      0\n",
              "935554   252638.0             1.0  ...       10.0      0\n",
              "935555   252641.0             1.0  ...       10.0      0\n",
              "\n",
              "[907064 rows x 15 columns]"
            ]
          },
          "metadata": {
            "tags": []
          },
          "execution_count": 78
        }
      ]
    },
    {
      "cell_type": "code",
      "metadata": {
        "id": "5liY2X0NcJov"
      },
      "source": [
        "data=data.dropna(how=\"any\")"
      ],
      "execution_count": null,
      "outputs": []
    },
    {
      "cell_type": "code",
      "metadata": {
        "colab": {
          "base_uri": "https://localhost:8080/",
          "height": 456
        },
        "id": "OgFk9pfccSXT",
        "outputId": "df97f60e-c0d9-4606-f31e-2f973250e37f"
      },
      "source": [
        "data"
      ],
      "execution_count": null,
      "outputs": [
        {
          "output_type": "execute_result",
          "data": {
            "text/html": [
              "<div>\n",
              "<style scoped>\n",
              "    .dataframe tbody tr th:only-of-type {\n",
              "        vertical-align: middle;\n",
              "    }\n",
              "\n",
              "    .dataframe tbody tr th {\n",
              "        vertical-align: top;\n",
              "    }\n",
              "\n",
              "    .dataframe thead th {\n",
              "        text-align: right;\n",
              "    }\n",
              "</style>\n",
              "<table border=\"1\" class=\"dataframe\">\n",
              "  <thead>\n",
              "    <tr style=\"text-align: right;\">\n",
              "      <th></th>\n",
              "      <th>client_id</th>\n",
              "      <th>operation_type</th>\n",
              "      <th>Direction_Of_Transaction</th>\n",
              "      <th>Date_Of_transaction</th>\n",
              "      <th>Summ</th>\n",
              "      <th>currency</th>\n",
              "      <th>summ_inCurrency</th>\n",
              "      <th>currency_of_payment_system</th>\n",
              "      <th>MCC-code_of_transaction</th>\n",
              "      <th>MCC_name_of_transaction</th>\n",
              "      <th>Business_type</th>\n",
              "      <th>ATM_Purpose</th>\n",
              "      <th>ATM_Other_purpose</th>\n",
              "      <th>Card_type</th>\n",
              "      <th>Class</th>\n",
              "    </tr>\n",
              "  </thead>\n",
              "  <tbody>\n",
              "    <tr>\n",
              "      <th>0</th>\n",
              "      <td>0.0</td>\n",
              "      <td>1.0</td>\n",
              "      <td>2.0</td>\n",
              "      <td>3.0</td>\n",
              "      <td>-0.505253</td>\n",
              "      <td>5.0</td>\n",
              "      <td>4.0</td>\n",
              "      <td>5.0</td>\n",
              "      <td>6.0</td>\n",
              "      <td>7.0</td>\n",
              "      <td>8.0</td>\n",
              "      <td>9.0</td>\n",
              "      <td>9.0</td>\n",
              "      <td>10.0</td>\n",
              "      <td>1</td>\n",
              "    </tr>\n",
              "    <tr>\n",
              "      <th>1</th>\n",
              "      <td>0.0</td>\n",
              "      <td>1.0</td>\n",
              "      <td>2.0</td>\n",
              "      <td>12.0</td>\n",
              "      <td>-0.505090</td>\n",
              "      <td>5.0</td>\n",
              "      <td>13.0</td>\n",
              "      <td>5.0</td>\n",
              "      <td>14.0</td>\n",
              "      <td>15.0</td>\n",
              "      <td>16.0</td>\n",
              "      <td>9.0</td>\n",
              "      <td>9.0</td>\n",
              "      <td>10.0</td>\n",
              "      <td>1</td>\n",
              "    </tr>\n",
              "    <tr>\n",
              "      <th>2</th>\n",
              "      <td>17.0</td>\n",
              "      <td>1.0</td>\n",
              "      <td>11.0</td>\n",
              "      <td>18.0</td>\n",
              "      <td>-0.504980</td>\n",
              "      <td>5.0</td>\n",
              "      <td>19.0</td>\n",
              "      <td>5.0</td>\n",
              "      <td>14.0</td>\n",
              "      <td>15.0</td>\n",
              "      <td>20.0</td>\n",
              "      <td>9.0</td>\n",
              "      <td>9.0</td>\n",
              "      <td>10.0</td>\n",
              "      <td>1</td>\n",
              "    </tr>\n",
              "    <tr>\n",
              "      <th>3</th>\n",
              "      <td>17.0</td>\n",
              "      <td>1.0</td>\n",
              "      <td>2.0</td>\n",
              "      <td>21.0</td>\n",
              "      <td>-0.504926</td>\n",
              "      <td>5.0</td>\n",
              "      <td>23.0</td>\n",
              "      <td>5.0</td>\n",
              "      <td>24.0</td>\n",
              "      <td>25.0</td>\n",
              "      <td>26.0</td>\n",
              "      <td>9.0</td>\n",
              "      <td>9.0</td>\n",
              "      <td>10.0</td>\n",
              "      <td>1</td>\n",
              "    </tr>\n",
              "    <tr>\n",
              "      <th>4</th>\n",
              "      <td>17.0</td>\n",
              "      <td>1.0</td>\n",
              "      <td>11.0</td>\n",
              "      <td>27.0</td>\n",
              "      <td>-0.504817</td>\n",
              "      <td>5.0</td>\n",
              "      <td>28.0</td>\n",
              "      <td>5.0</td>\n",
              "      <td>14.0</td>\n",
              "      <td>15.0</td>\n",
              "      <td>20.0</td>\n",
              "      <td>9.0</td>\n",
              "      <td>9.0</td>\n",
              "      <td>10.0</td>\n",
              "      <td>1</td>\n",
              "    </tr>\n",
              "    <tr>\n",
              "      <th>...</th>\n",
              "      <td>...</td>\n",
              "      <td>...</td>\n",
              "      <td>...</td>\n",
              "      <td>...</td>\n",
              "      <td>...</td>\n",
              "      <td>...</td>\n",
              "      <td>...</td>\n",
              "      <td>...</td>\n",
              "      <td>...</td>\n",
              "      <td>...</td>\n",
              "      <td>...</td>\n",
              "      <td>...</td>\n",
              "      <td>...</td>\n",
              "      <td>...</td>\n",
              "      <td>...</td>\n",
              "    </tr>\n",
              "    <tr>\n",
              "      <th>935551</th>\n",
              "      <td>252629.0</td>\n",
              "      <td>1.0</td>\n",
              "      <td>2.0</td>\n",
              "      <td>249738.0</td>\n",
              "      <td>4.086183</td>\n",
              "      <td>5.0</td>\n",
              "      <td>252631.0</td>\n",
              "      <td>252631.0</td>\n",
              "      <td>14.0</td>\n",
              "      <td>15.0</td>\n",
              "      <td>251545.0</td>\n",
              "      <td>9.0</td>\n",
              "      <td>9.0</td>\n",
              "      <td>10.0</td>\n",
              "      <td>0</td>\n",
              "    </tr>\n",
              "    <tr>\n",
              "      <th>935552</th>\n",
              "      <td>252632.0</td>\n",
              "      <td>1.0</td>\n",
              "      <td>2.0</td>\n",
              "      <td>250467.0</td>\n",
              "      <td>4.086238</td>\n",
              "      <td>5.0</td>\n",
              "      <td>252634.0</td>\n",
              "      <td>252634.0</td>\n",
              "      <td>14.0</td>\n",
              "      <td>15.0</td>\n",
              "      <td>251545.0</td>\n",
              "      <td>9.0</td>\n",
              "      <td>9.0</td>\n",
              "      <td>10.0</td>\n",
              "      <td>0</td>\n",
              "    </tr>\n",
              "    <tr>\n",
              "      <th>935553</th>\n",
              "      <td>252635.0</td>\n",
              "      <td>1.0</td>\n",
              "      <td>2.0</td>\n",
              "      <td>250157.0</td>\n",
              "      <td>4.086292</td>\n",
              "      <td>5.0</td>\n",
              "      <td>252637.0</td>\n",
              "      <td>252637.0</td>\n",
              "      <td>14.0</td>\n",
              "      <td>15.0</td>\n",
              "      <td>251545.0</td>\n",
              "      <td>9.0</td>\n",
              "      <td>9.0</td>\n",
              "      <td>10.0</td>\n",
              "      <td>0</td>\n",
              "    </tr>\n",
              "    <tr>\n",
              "      <th>935554</th>\n",
              "      <td>252638.0</td>\n",
              "      <td>1.0</td>\n",
              "      <td>2.0</td>\n",
              "      <td>249548.0</td>\n",
              "      <td>4.086347</td>\n",
              "      <td>5.0</td>\n",
              "      <td>252640.0</td>\n",
              "      <td>252640.0</td>\n",
              "      <td>14.0</td>\n",
              "      <td>15.0</td>\n",
              "      <td>251545.0</td>\n",
              "      <td>9.0</td>\n",
              "      <td>9.0</td>\n",
              "      <td>10.0</td>\n",
              "      <td>0</td>\n",
              "    </tr>\n",
              "    <tr>\n",
              "      <th>935555</th>\n",
              "      <td>252641.0</td>\n",
              "      <td>1.0</td>\n",
              "      <td>2.0</td>\n",
              "      <td>249738.0</td>\n",
              "      <td>4.086401</td>\n",
              "      <td>5.0</td>\n",
              "      <td>252643.0</td>\n",
              "      <td>252643.0</td>\n",
              "      <td>14.0</td>\n",
              "      <td>15.0</td>\n",
              "      <td>251545.0</td>\n",
              "      <td>9.0</td>\n",
              "      <td>9.0</td>\n",
              "      <td>10.0</td>\n",
              "      <td>0</td>\n",
              "    </tr>\n",
              "  </tbody>\n",
              "</table>\n",
              "<p>907064 rows × 15 columns</p>\n",
              "</div>"
            ],
            "text/plain": [
              "        client_id  operation_type  ...  Card_type  Class\n",
              "0             0.0             1.0  ...       10.0      1\n",
              "1             0.0             1.0  ...       10.0      1\n",
              "2            17.0             1.0  ...       10.0      1\n",
              "3            17.0             1.0  ...       10.0      1\n",
              "4            17.0             1.0  ...       10.0      1\n",
              "...           ...             ...  ...        ...    ...\n",
              "935551   252629.0             1.0  ...       10.0      0\n",
              "935552   252632.0             1.0  ...       10.0      0\n",
              "935553   252635.0             1.0  ...       10.0      0\n",
              "935554   252638.0             1.0  ...       10.0      0\n",
              "935555   252641.0             1.0  ...       10.0      0\n",
              "\n",
              "[907064 rows x 15 columns]"
            ]
          },
          "metadata": {
            "tags": []
          },
          "execution_count": 80
        }
      ]
    },
    {
      "cell_type": "markdown",
      "metadata": {
        "id": "rOIkKjgGooQx"
      },
      "source": [
        "Количество двух классов"
      ]
    },
    {
      "cell_type": "code",
      "metadata": {
        "id": "nky7ifyqoGpj",
        "colab": {
          "base_uri": "https://localhost:8080/",
          "height": 313
        },
        "outputId": "fffde016-ce76-4fa5-df9e-4ba67106b8fb"
      },
      "source": [
        "counts = pd.value_counts(data.Class, sort = True)\n",
        "counts.plot(kind = 'bar')\n",
        "plt.show()\n",
        "counts"
      ],
      "execution_count": null,
      "outputs": [
        {
          "output_type": "display_data",
          "data": {
            "image/png": "[encoded data removed]",
            "text/plain": [
              "<Figure size 432x288 with 1 Axes>"
            ]
          },
          "metadata": {
            "tags": [],
            "needs_background": "light"
          }
        },
        {
          "output_type": "execute_result",
          "data": {
            "text/plain": [
              "1    906064\n",
              "0      1000\n",
              "Name: Class, dtype: int64"
            ]
          },
          "metadata": {
            "tags": []
          },
          "execution_count": 81
        }
      ]
    },
    {
      "cell_type": "markdown",
      "metadata": {
        "id": "l8gfvd-Hp_ak"
      },
      "source": [
        "Видно, что выборка несбалансированная\n"
      ]
    },
    {
      "cell_type": "markdown",
      "metadata": {
        "id": "VzRx5Em_6xHi"
      },
      "source": [
        "Посмотрим, поведение мошенников:"
      ]
    },
    {
      "cell_type": "code",
      "metadata": {
        "id": "FdB9OfsZp3FL"
      },
      "source": [
        "# data_fraud = data[data['Class'] == 1] \n",
        "# plt.figure(figsize=(20,8))\n",
        "# plt.scatter(data_fraud['Date_Of_transaction'], data_fraud['Summ']) \n",
        "# plt.title('Транзакции мошенников')\n",
        "# plt.xlabel('Time')\n",
        "# plt.ylabel('Amount')\n",
        "# plt.xlim([0,175000])\n",
        "# plt.ylim([0,2500])\n",
        "# plt.show()"
      ],
      "execution_count": null,
      "outputs": []
    },
    {
      "cell_type": "markdown",
      "metadata": {
        "id": "RiwTnIO_7Bv4"
      },
      "source": [
        "Посмотрим, как коррелируют переменные:"
      ]
    },
    {
      "cell_type": "code",
      "metadata": {
        "colab": {
          "base_uri": "https://localhost:8080/",
          "height": 734
        },
        "id": "bIV3qoN5q45A",
        "outputId": "8973459c-00b7-44a6-8a55-a1a3f75976f6"
      },
      "source": [
        "corr = data.corr()\n",
        "plt.figure(figsize=(12,10))\n",
        "heat = sns.heatmap(data=corr)"
      ],
      "execution_count": null,
      "outputs": [
        {
          "output_type": "display_data",
          "data": {
            "image/png": "[encoded data removed]",
            "text/plain": [
              "<Figure size 864x720 with 2 Axes>"
            ]
          },
          "metadata": {
            "tags": [],
            "needs_background": "light"
          }
        }
      ]
    },
    {
      "cell_type": "markdown",
      "metadata": {
        "id": "U8JP5chxs81j"
      },
      "source": [
        "Сбалансирование выборки"
      ]
    },
    {
      "cell_type": "code",
      "metadata": {
        "colab": {
          "base_uri": "https://localhost:8080/",
          "height": 456
        },
        "id": "YbCZUHjCbjHA",
        "outputId": "a4d65bbf-e559-4c0d-b721-eb3667985ea9"
      },
      "source": [
        "data"
      ],
      "execution_count": null,
      "outputs": [
        {
          "output_type": "execute_result",
          "data": {
            "text/html": [
              "<div>\n",
              "<style scoped>\n",
              "    .dataframe tbody tr th:only-of-type {\n",
              "        vertical-align: middle;\n",
              "    }\n",
              "\n",
              "    .dataframe tbody tr th {\n",
              "        vertical-align: top;\n",
              "    }\n",
              "\n",
              "    .dataframe thead th {\n",
              "        text-align: right;\n",
              "    }\n",
              "</style>\n",
              "<table border=\"1\" class=\"dataframe\">\n",
              "  <thead>\n",
              "    <tr style=\"text-align: right;\">\n",
              "      <th></th>\n",
              "      <th>client_id</th>\n",
              "      <th>operation_type</th>\n",
              "      <th>Direction_Of_Transaction</th>\n",
              "      <th>Date_Of_transaction</th>\n",
              "      <th>Summ</th>\n",
              "      <th>currency</th>\n",
              "      <th>summ_inCurrency</th>\n",
              "      <th>currency_of_payment_system</th>\n",
              "      <th>MCC-code_of_transaction</th>\n",
              "      <th>MCC_name_of_transaction</th>\n",
              "      <th>Business_type</th>\n",
              "      <th>ATM_Purpose</th>\n",
              "      <th>ATM_Other_purpose</th>\n",
              "      <th>Card_type</th>\n",
              "      <th>Class</th>\n",
              "    </tr>\n",
              "  </thead>\n",
              "  <tbody>\n",
              "    <tr>\n",
              "      <th>0</th>\n",
              "      <td>0.0</td>\n",
              "      <td>1.0</td>\n",
              "      <td>2.0</td>\n",
              "      <td>3.0</td>\n",
              "      <td>-0.505253</td>\n",
              "      <td>5.0</td>\n",
              "      <td>4.0</td>\n",
              "      <td>5.0</td>\n",
              "      <td>6.0</td>\n",
              "      <td>7.0</td>\n",
              "      <td>8.0</td>\n",
              "      <td>9.0</td>\n",
              "      <td>9.0</td>\n",
              "      <td>10.0</td>\n",
              "      <td>1</td>\n",
              "    </tr>\n",
              "    <tr>\n",
              "      <th>1</th>\n",
              "      <td>0.0</td>\n",
              "      <td>1.0</td>\n",
              "      <td>2.0</td>\n",
              "      <td>12.0</td>\n",
              "      <td>-0.505090</td>\n",
              "      <td>5.0</td>\n",
              "      <td>13.0</td>\n",
              "      <td>5.0</td>\n",
              "      <td>14.0</td>\n",
              "      <td>15.0</td>\n",
              "      <td>16.0</td>\n",
              "      <td>9.0</td>\n",
              "      <td>9.0</td>\n",
              "      <td>10.0</td>\n",
              "      <td>1</td>\n",
              "    </tr>\n",
              "    <tr>\n",
              "      <th>2</th>\n",
              "      <td>17.0</td>\n",
              "      <td>1.0</td>\n",
              "      <td>11.0</td>\n",
              "      <td>18.0</td>\n",
              "      <td>-0.504980</td>\n",
              "      <td>5.0</td>\n",
              "      <td>19.0</td>\n",
              "      <td>5.0</td>\n",
              "      <td>14.0</td>\n",
              "      <td>15.0</td>\n",
              "      <td>20.0</td>\n",
              "      <td>9.0</td>\n",
              "      <td>9.0</td>\n",
              "      <td>10.0</td>\n",
              "      <td>1</td>\n",
              "    </tr>\n",
              "    <tr>\n",
              "      <th>3</th>\n",
              "      <td>17.0</td>\n",
              "      <td>1.0</td>\n",
              "      <td>2.0</td>\n",
              "      <td>21.0</td>\n",
              "      <td>-0.504926</td>\n",
              "      <td>5.0</td>\n",
              "      <td>23.0</td>\n",
              "      <td>5.0</td>\n",
              "      <td>24.0</td>\n",
              "      <td>25.0</td>\n",
              "      <td>26.0</td>\n",
              "      <td>9.0</td>\n",
              "      <td>9.0</td>\n",
              "      <td>10.0</td>\n",
              "      <td>1</td>\n",
              "    </tr>\n",
              "    <tr>\n",
              "      <th>4</th>\n",
              "      <td>17.0</td>\n",
              "      <td>1.0</td>\n",
              "      <td>11.0</td>\n",
              "      <td>27.0</td>\n",
              "      <td>-0.504817</td>\n",
              "      <td>5.0</td>\n",
              "      <td>28.0</td>\n",
              "      <td>5.0</td>\n",
              "      <td>14.0</td>\n",
              "      <td>15.0</td>\n",
              "      <td>20.0</td>\n",
              "      <td>9.0</td>\n",
              "      <td>9.0</td>\n",
              "      <td>10.0</td>\n",
              "      <td>1</td>\n",
              "    </tr>\n",
              "    <tr>\n",
              "      <th>...</th>\n",
              "      <td>...</td>\n",
              "      <td>...</td>\n",
              "      <td>...</td>\n",
              "      <td>...</td>\n",
              "      <td>...</td>\n",
              "      <td>...</td>\n",
              "      <td>...</td>\n",
              "      <td>...</td>\n",
              "      <td>...</td>\n",
              "      <td>...</td>\n",
              "      <td>...</td>\n",
              "      <td>...</td>\n",
              "      <td>...</td>\n",
              "      <td>...</td>\n",
              "      <td>...</td>\n",
              "    </tr>\n",
              "    <tr>\n",
              "      <th>935551</th>\n",
              "      <td>252629.0</td>\n",
              "      <td>1.0</td>\n",
              "      <td>2.0</td>\n",
              "      <td>249738.0</td>\n",
              "      <td>4.086183</td>\n",
              "      <td>5.0</td>\n",
              "      <td>252631.0</td>\n",
              "      <td>252631.0</td>\n",
              "      <td>14.0</td>\n",
              "      <td>15.0</td>\n",
              "      <td>251545.0</td>\n",
              "      <td>9.0</td>\n",
              "      <td>9.0</td>\n",
              "      <td>10.0</td>\n",
              "      <td>0</td>\n",
              "    </tr>\n",
              "    <tr>\n",
              "      <th>935552</th>\n",
              "      <td>252632.0</td>\n",
              "      <td>1.0</td>\n",
              "      <td>2.0</td>\n",
              "      <td>250467.0</td>\n",
              "      <td>4.086238</td>\n",
              "      <td>5.0</td>\n",
              "      <td>252634.0</td>\n",
              "      <td>252634.0</td>\n",
              "      <td>14.0</td>\n",
              "      <td>15.0</td>\n",
              "      <td>251545.0</td>\n",
              "      <td>9.0</td>\n",
              "      <td>9.0</td>\n",
              "      <td>10.0</td>\n",
              "      <td>0</td>\n",
              "    </tr>\n",
              "    <tr>\n",
              "      <th>935553</th>\n",
              "      <td>252635.0</td>\n",
              "      <td>1.0</td>\n",
              "      <td>2.0</td>\n",
              "      <td>250157.0</td>\n",
              "      <td>4.086292</td>\n",
              "      <td>5.0</td>\n",
              "      <td>252637.0</td>\n",
              "      <td>252637.0</td>\n",
              "      <td>14.0</td>\n",
              "      <td>15.0</td>\n",
              "      <td>251545.0</td>\n",
              "      <td>9.0</td>\n",
              "      <td>9.0</td>\n",
              "      <td>10.0</td>\n",
              "      <td>0</td>\n",
              "    </tr>\n",
              "    <tr>\n",
              "      <th>935554</th>\n",
              "      <td>252638.0</td>\n",
              "      <td>1.0</td>\n",
              "      <td>2.0</td>\n",
              "      <td>249548.0</td>\n",
              "      <td>4.086347</td>\n",
              "      <td>5.0</td>\n",
              "      <td>252640.0</td>\n",
              "      <td>252640.0</td>\n",
              "      <td>14.0</td>\n",
              "      <td>15.0</td>\n",
              "      <td>251545.0</td>\n",
              "      <td>9.0</td>\n",
              "      <td>9.0</td>\n",
              "      <td>10.0</td>\n",
              "      <td>0</td>\n",
              "    </tr>\n",
              "    <tr>\n",
              "      <th>935555</th>\n",
              "      <td>252641.0</td>\n",
              "      <td>1.0</td>\n",
              "      <td>2.0</td>\n",
              "      <td>249738.0</td>\n",
              "      <td>4.086401</td>\n",
              "      <td>5.0</td>\n",
              "      <td>252643.0</td>\n",
              "      <td>252643.0</td>\n",
              "      <td>14.0</td>\n",
              "      <td>15.0</td>\n",
              "      <td>251545.0</td>\n",
              "      <td>9.0</td>\n",
              "      <td>9.0</td>\n",
              "      <td>10.0</td>\n",
              "      <td>0</td>\n",
              "    </tr>\n",
              "  </tbody>\n",
              "</table>\n",
              "<p>907064 rows × 15 columns</p>\n",
              "</div>"
            ],
            "text/plain": [
              "        client_id  operation_type  ...  Card_type  Class\n",
              "0             0.0             1.0  ...       10.0      1\n",
              "1             0.0             1.0  ...       10.0      1\n",
              "2            17.0             1.0  ...       10.0      1\n",
              "3            17.0             1.0  ...       10.0      1\n",
              "4            17.0             1.0  ...       10.0      1\n",
              "...           ...             ...  ...        ...    ...\n",
              "935551   252629.0             1.0  ...       10.0      0\n",
              "935552   252632.0             1.0  ...       10.0      0\n",
              "935553   252635.0             1.0  ...       10.0      0\n",
              "935554   252638.0             1.0  ...       10.0      0\n",
              "935555   252641.0             1.0  ...       10.0      0\n",
              "\n",
              "[907064 rows x 15 columns]"
            ]
          },
          "metadata": {
            "tags": []
          },
          "execution_count": 84
        }
      ]
    },
    {
      "cell_type": "code",
      "metadata": {
        "colab": {
          "base_uri": "https://localhost:8080/",
          "height": 456
        },
        "id": "2uoNru2JbpFD",
        "outputId": "50947b9d-a724-4f4f-f646-a3c30e15aa74"
      },
      "source": [
        "data"
      ],
      "execution_count": null,
      "outputs": [
        {
          "output_type": "execute_result",
          "data": {
            "text/html": [
              "<div>\n",
              "<style scoped>\n",
              "    .dataframe tbody tr th:only-of-type {\n",
              "        vertical-align: middle;\n",
              "    }\n",
              "\n",
              "    .dataframe tbody tr th {\n",
              "        vertical-align: top;\n",
              "    }\n",
              "\n",
              "    .dataframe thead th {\n",
              "        text-align: right;\n",
              "    }\n",
              "</style>\n",
              "<table border=\"1\" class=\"dataframe\">\n",
              "  <thead>\n",
              "    <tr style=\"text-align: right;\">\n",
              "      <th></th>\n",
              "      <th>client_id</th>\n",
              "      <th>operation_type</th>\n",
              "      <th>Direction_Of_Transaction</th>\n",
              "      <th>Date_Of_transaction</th>\n",
              "      <th>Summ</th>\n",
              "      <th>currency</th>\n",
              "      <th>summ_inCurrency</th>\n",
              "      <th>currency_of_payment_system</th>\n",
              "      <th>MCC-code_of_transaction</th>\n",
              "      <th>MCC_name_of_transaction</th>\n",
              "      <th>Business_type</th>\n",
              "      <th>ATM_Purpose</th>\n",
              "      <th>ATM_Other_purpose</th>\n",
              "      <th>Card_type</th>\n",
              "      <th>Class</th>\n",
              "    </tr>\n",
              "  </thead>\n",
              "  <tbody>\n",
              "    <tr>\n",
              "      <th>0</th>\n",
              "      <td>0.0</td>\n",
              "      <td>1.0</td>\n",
              "      <td>2.0</td>\n",
              "      <td>3.0</td>\n",
              "      <td>-0.505253</td>\n",
              "      <td>5.0</td>\n",
              "      <td>4.0</td>\n",
              "      <td>5.0</td>\n",
              "      <td>6.0</td>\n",
              "      <td>7.0</td>\n",
              "      <td>8.0</td>\n",
              "      <td>9.0</td>\n",
              "      <td>9.0</td>\n",
              "      <td>10.0</td>\n",
              "      <td>1</td>\n",
              "    </tr>\n",
              "    <tr>\n",
              "      <th>1</th>\n",
              "      <td>0.0</td>\n",
              "      <td>1.0</td>\n",
              "      <td>2.0</td>\n",
              "      <td>12.0</td>\n",
              "      <td>-0.505090</td>\n",
              "      <td>5.0</td>\n",
              "      <td>13.0</td>\n",
              "      <td>5.0</td>\n",
              "      <td>14.0</td>\n",
              "      <td>15.0</td>\n",
              "      <td>16.0</td>\n",
              "      <td>9.0</td>\n",
              "      <td>9.0</td>\n",
              "      <td>10.0</td>\n",
              "      <td>1</td>\n",
              "    </tr>\n",
              "    <tr>\n",
              "      <th>2</th>\n",
              "      <td>17.0</td>\n",
              "      <td>1.0</td>\n",
              "      <td>11.0</td>\n",
              "      <td>18.0</td>\n",
              "      <td>-0.504980</td>\n",
              "      <td>5.0</td>\n",
              "      <td>19.0</td>\n",
              "      <td>5.0</td>\n",
              "      <td>14.0</td>\n",
              "      <td>15.0</td>\n",
              "      <td>20.0</td>\n",
              "      <td>9.0</td>\n",
              "      <td>9.0</td>\n",
              "      <td>10.0</td>\n",
              "      <td>1</td>\n",
              "    </tr>\n",
              "    <tr>\n",
              "      <th>3</th>\n",
              "      <td>17.0</td>\n",
              "      <td>1.0</td>\n",
              "      <td>2.0</td>\n",
              "      <td>21.0</td>\n",
              "      <td>-0.504926</td>\n",
              "      <td>5.0</td>\n",
              "      <td>23.0</td>\n",
              "      <td>5.0</td>\n",
              "      <td>24.0</td>\n",
              "      <td>25.0</td>\n",
              "      <td>26.0</td>\n",
              "      <td>9.0</td>\n",
              "      <td>9.0</td>\n",
              "      <td>10.0</td>\n",
              "      <td>1</td>\n",
              "    </tr>\n",
              "    <tr>\n",
              "      <th>4</th>\n",
              "      <td>17.0</td>\n",
              "      <td>1.0</td>\n",
              "      <td>11.0</td>\n",
              "      <td>27.0</td>\n",
              "      <td>-0.504817</td>\n",
              "      <td>5.0</td>\n",
              "      <td>28.0</td>\n",
              "      <td>5.0</td>\n",
              "      <td>14.0</td>\n",
              "      <td>15.0</td>\n",
              "      <td>20.0</td>\n",
              "      <td>9.0</td>\n",
              "      <td>9.0</td>\n",
              "      <td>10.0</td>\n",
              "      <td>1</td>\n",
              "    </tr>\n",
              "    <tr>\n",
              "      <th>...</th>\n",
              "      <td>...</td>\n",
              "      <td>...</td>\n",
              "      <td>...</td>\n",
              "      <td>...</td>\n",
              "      <td>...</td>\n",
              "      <td>...</td>\n",
              "      <td>...</td>\n",
              "      <td>...</td>\n",
              "      <td>...</td>\n",
              "      <td>...</td>\n",
              "      <td>...</td>\n",
              "      <td>...</td>\n",
              "      <td>...</td>\n",
              "      <td>...</td>\n",
              "      <td>...</td>\n",
              "    </tr>\n",
              "    <tr>\n",
              "      <th>935551</th>\n",
              "      <td>252629.0</td>\n",
              "      <td>1.0</td>\n",
              "      <td>2.0</td>\n",
              "      <td>249738.0</td>\n",
              "      <td>4.086183</td>\n",
              "      <td>5.0</td>\n",
              "      <td>252631.0</td>\n",
              "      <td>252631.0</td>\n",
              "      <td>14.0</td>\n",
              "      <td>15.0</td>\n",
              "      <td>251545.0</td>\n",
              "      <td>9.0</td>\n",
              "      <td>9.0</td>\n",
              "      <td>10.0</td>\n",
              "      <td>0</td>\n",
              "    </tr>\n",
              "    <tr>\n",
              "      <th>935552</th>\n",
              "      <td>252632.0</td>\n",
              "      <td>1.0</td>\n",
              "      <td>2.0</td>\n",
              "      <td>250467.0</td>\n",
              "      <td>4.086238</td>\n",
              "      <td>5.0</td>\n",
              "      <td>252634.0</td>\n",
              "      <td>252634.0</td>\n",
              "      <td>14.0</td>\n",
              "      <td>15.0</td>\n",
              "      <td>251545.0</td>\n",
              "      <td>9.0</td>\n",
              "      <td>9.0</td>\n",
              "      <td>10.0</td>\n",
              "      <td>0</td>\n",
              "    </tr>\n",
              "    <tr>\n",
              "      <th>935553</th>\n",
              "      <td>252635.0</td>\n",
              "      <td>1.0</td>\n",
              "      <td>2.0</td>\n",
              "      <td>250157.0</td>\n",
              "      <td>4.086292</td>\n",
              "      <td>5.0</td>\n",
              "      <td>252637.0</td>\n",
              "      <td>252637.0</td>\n",
              "      <td>14.0</td>\n",
              "      <td>15.0</td>\n",
              "      <td>251545.0</td>\n",
              "      <td>9.0</td>\n",
              "      <td>9.0</td>\n",
              "      <td>10.0</td>\n",
              "      <td>0</td>\n",
              "    </tr>\n",
              "    <tr>\n",
              "      <th>935554</th>\n",
              "      <td>252638.0</td>\n",
              "      <td>1.0</td>\n",
              "      <td>2.0</td>\n",
              "      <td>249548.0</td>\n",
              "      <td>4.086347</td>\n",
              "      <td>5.0</td>\n",
              "      <td>252640.0</td>\n",
              "      <td>252640.0</td>\n",
              "      <td>14.0</td>\n",
              "      <td>15.0</td>\n",
              "      <td>251545.0</td>\n",
              "      <td>9.0</td>\n",
              "      <td>9.0</td>\n",
              "      <td>10.0</td>\n",
              "      <td>0</td>\n",
              "    </tr>\n",
              "    <tr>\n",
              "      <th>935555</th>\n",
              "      <td>252641.0</td>\n",
              "      <td>1.0</td>\n",
              "      <td>2.0</td>\n",
              "      <td>249738.0</td>\n",
              "      <td>4.086401</td>\n",
              "      <td>5.0</td>\n",
              "      <td>252643.0</td>\n",
              "      <td>252643.0</td>\n",
              "      <td>14.0</td>\n",
              "      <td>15.0</td>\n",
              "      <td>251545.0</td>\n",
              "      <td>9.0</td>\n",
              "      <td>9.0</td>\n",
              "      <td>10.0</td>\n",
              "      <td>0</td>\n",
              "    </tr>\n",
              "  </tbody>\n",
              "</table>\n",
              "<p>907064 rows × 15 columns</p>\n",
              "</div>"
            ],
            "text/plain": [
              "        client_id  operation_type  ...  Card_type  Class\n",
              "0             0.0             1.0  ...       10.0      1\n",
              "1             0.0             1.0  ...       10.0      1\n",
              "2            17.0             1.0  ...       10.0      1\n",
              "3            17.0             1.0  ...       10.0      1\n",
              "4            17.0             1.0  ...       10.0      1\n",
              "...           ...             ...  ...        ...    ...\n",
              "935551   252629.0             1.0  ...       10.0      0\n",
              "935552   252632.0             1.0  ...       10.0      0\n",
              "935553   252635.0             1.0  ...       10.0      0\n",
              "935554   252638.0             1.0  ...       10.0      0\n",
              "935555   252641.0             1.0  ...       10.0      0\n",
              "\n",
              "[907064 rows x 15 columns]"
            ]
          },
          "metadata": {
            "tags": []
          },
          "execution_count": 85
        }
      ]
    },
    {
      "cell_type": "code",
      "metadata": {
        "colab": {
          "base_uri": "https://localhost:8080/"
        },
        "id": "w1OoWcsSrk6t",
        "outputId": "e1068e8e-e910-4e5e-dcaf-4779cfa728c5"
      },
      "source": [
        "df_train_all = data[800000:935300] \n",
        "df_train_all.dropna\n",
        "df_train_1 = df_train_all[df_train_all['Class'] == 1] \n",
        "df_train_0 = df_train_all[df_train_all['Class'] == 0]\n",
        "\n",
        "print(\"Кол-во транзакций мошенников: \", len(df_train_0))"
      ],
      "execution_count": null,
      "outputs": [
        {
          "output_type": "stream",
          "text": [
            "Кол-во транзакций мошенников:  1000\n"
          ],
          "name": "stdout"
        }
      ]
    },
    {
      "cell_type": "code",
      "metadata": {
        "colab": {
          "base_uri": "https://localhost:8080/",
          "height": 456
        },
        "id": "Q4kEVVEwBCLN",
        "outputId": "aff7b6b6-95f1-4f8e-e670-eec5be543cb4"
      },
      "source": [
        "df_train_0"
      ],
      "execution_count": null,
      "outputs": [
        {
          "output_type": "execute_result",
          "data": {
            "text/html": [
              "<div>\n",
              "<style scoped>\n",
              "    .dataframe tbody tr th:only-of-type {\n",
              "        vertical-align: middle;\n",
              "    }\n",
              "\n",
              "    .dataframe tbody tr th {\n",
              "        vertical-align: top;\n",
              "    }\n",
              "\n",
              "    .dataframe thead th {\n",
              "        text-align: right;\n",
              "    }\n",
              "</style>\n",
              "<table border=\"1\" class=\"dataframe\">\n",
              "  <thead>\n",
              "    <tr style=\"text-align: right;\">\n",
              "      <th></th>\n",
              "      <th>client_id</th>\n",
              "      <th>operation_type</th>\n",
              "      <th>Direction_Of_Transaction</th>\n",
              "      <th>Date_Of_transaction</th>\n",
              "      <th>Summ</th>\n",
              "      <th>currency</th>\n",
              "      <th>summ_inCurrency</th>\n",
              "      <th>currency_of_payment_system</th>\n",
              "      <th>MCC-code_of_transaction</th>\n",
              "      <th>MCC_name_of_transaction</th>\n",
              "      <th>Business_type</th>\n",
              "      <th>ATM_Purpose</th>\n",
              "      <th>ATM_Other_purpose</th>\n",
              "      <th>Card_type</th>\n",
              "      <th>Class</th>\n",
              "    </tr>\n",
              "  </thead>\n",
              "  <tbody>\n",
              "    <tr>\n",
              "      <th>934556</th>\n",
              "      <td>249547.0</td>\n",
              "      <td>1.0</td>\n",
              "      <td>2.0</td>\n",
              "      <td>249548.0</td>\n",
              "      <td>4.030186</td>\n",
              "      <td>5.0</td>\n",
              "      <td>249550.0</td>\n",
              "      <td>249550.0</td>\n",
              "      <td>92.0</td>\n",
              "      <td>93.0</td>\n",
              "      <td>282.0</td>\n",
              "      <td>11.0</td>\n",
              "      <td>9.0</td>\n",
              "      <td>10.0</td>\n",
              "      <td>0</td>\n",
              "    </tr>\n",
              "    <tr>\n",
              "      <th>934557</th>\n",
              "      <td>249551.0</td>\n",
              "      <td>1.0</td>\n",
              "      <td>2.0</td>\n",
              "      <td>249552.0</td>\n",
              "      <td>4.030259</td>\n",
              "      <td>5.0</td>\n",
              "      <td>249554.0</td>\n",
              "      <td>249554.0</td>\n",
              "      <td>92.0</td>\n",
              "      <td>93.0</td>\n",
              "      <td>282.0</td>\n",
              "      <td>11.0</td>\n",
              "      <td>9.0</td>\n",
              "      <td>10.0</td>\n",
              "      <td>0</td>\n",
              "    </tr>\n",
              "    <tr>\n",
              "      <th>934558</th>\n",
              "      <td>249555.0</td>\n",
              "      <td>1.0</td>\n",
              "      <td>2.0</td>\n",
              "      <td>249556.0</td>\n",
              "      <td>4.030332</td>\n",
              "      <td>5.0</td>\n",
              "      <td>249558.0</td>\n",
              "      <td>249558.0</td>\n",
              "      <td>92.0</td>\n",
              "      <td>93.0</td>\n",
              "      <td>282.0</td>\n",
              "      <td>11.0</td>\n",
              "      <td>9.0</td>\n",
              "      <td>10.0</td>\n",
              "      <td>0</td>\n",
              "    </tr>\n",
              "    <tr>\n",
              "      <th>934559</th>\n",
              "      <td>249559.0</td>\n",
              "      <td>1.0</td>\n",
              "      <td>2.0</td>\n",
              "      <td>2121.0</td>\n",
              "      <td>4.030386</td>\n",
              "      <td>5.0</td>\n",
              "      <td>249561.0</td>\n",
              "      <td>249561.0</td>\n",
              "      <td>92.0</td>\n",
              "      <td>93.0</td>\n",
              "      <td>282.0</td>\n",
              "      <td>11.0</td>\n",
              "      <td>9.0</td>\n",
              "      <td>10.0</td>\n",
              "      <td>0</td>\n",
              "    </tr>\n",
              "    <tr>\n",
              "      <th>934560</th>\n",
              "      <td>249562.0</td>\n",
              "      <td>1.0</td>\n",
              "      <td>2.0</td>\n",
              "      <td>249563.0</td>\n",
              "      <td>4.030459</td>\n",
              "      <td>5.0</td>\n",
              "      <td>249565.0</td>\n",
              "      <td>249565.0</td>\n",
              "      <td>92.0</td>\n",
              "      <td>93.0</td>\n",
              "      <td>282.0</td>\n",
              "      <td>11.0</td>\n",
              "      <td>9.0</td>\n",
              "      <td>10.0</td>\n",
              "      <td>0</td>\n",
              "    </tr>\n",
              "    <tr>\n",
              "      <th>...</th>\n",
              "      <td>...</td>\n",
              "      <td>...</td>\n",
              "      <td>...</td>\n",
              "      <td>...</td>\n",
              "      <td>...</td>\n",
              "      <td>...</td>\n",
              "      <td>...</td>\n",
              "      <td>...</td>\n",
              "      <td>...</td>\n",
              "      <td>...</td>\n",
              "      <td>...</td>\n",
              "      <td>...</td>\n",
              "      <td>...</td>\n",
              "      <td>...</td>\n",
              "      <td>...</td>\n",
              "    </tr>\n",
              "    <tr>\n",
              "      <th>935551</th>\n",
              "      <td>252629.0</td>\n",
              "      <td>1.0</td>\n",
              "      <td>2.0</td>\n",
              "      <td>249738.0</td>\n",
              "      <td>4.086183</td>\n",
              "      <td>5.0</td>\n",
              "      <td>252631.0</td>\n",
              "      <td>252631.0</td>\n",
              "      <td>14.0</td>\n",
              "      <td>15.0</td>\n",
              "      <td>251545.0</td>\n",
              "      <td>9.0</td>\n",
              "      <td>9.0</td>\n",
              "      <td>10.0</td>\n",
              "      <td>0</td>\n",
              "    </tr>\n",
              "    <tr>\n",
              "      <th>935552</th>\n",
              "      <td>252632.0</td>\n",
              "      <td>1.0</td>\n",
              "      <td>2.0</td>\n",
              "      <td>250467.0</td>\n",
              "      <td>4.086238</td>\n",
              "      <td>5.0</td>\n",
              "      <td>252634.0</td>\n",
              "      <td>252634.0</td>\n",
              "      <td>14.0</td>\n",
              "      <td>15.0</td>\n",
              "      <td>251545.0</td>\n",
              "      <td>9.0</td>\n",
              "      <td>9.0</td>\n",
              "      <td>10.0</td>\n",
              "      <td>0</td>\n",
              "    </tr>\n",
              "    <tr>\n",
              "      <th>935553</th>\n",
              "      <td>252635.0</td>\n",
              "      <td>1.0</td>\n",
              "      <td>2.0</td>\n",
              "      <td>250157.0</td>\n",
              "      <td>4.086292</td>\n",
              "      <td>5.0</td>\n",
              "      <td>252637.0</td>\n",
              "      <td>252637.0</td>\n",
              "      <td>14.0</td>\n",
              "      <td>15.0</td>\n",
              "      <td>251545.0</td>\n",
              "      <td>9.0</td>\n",
              "      <td>9.0</td>\n",
              "      <td>10.0</td>\n",
              "      <td>0</td>\n",
              "    </tr>\n",
              "    <tr>\n",
              "      <th>935554</th>\n",
              "      <td>252638.0</td>\n",
              "      <td>1.0</td>\n",
              "      <td>2.0</td>\n",
              "      <td>249548.0</td>\n",
              "      <td>4.086347</td>\n",
              "      <td>5.0</td>\n",
              "      <td>252640.0</td>\n",
              "      <td>252640.0</td>\n",
              "      <td>14.0</td>\n",
              "      <td>15.0</td>\n",
              "      <td>251545.0</td>\n",
              "      <td>9.0</td>\n",
              "      <td>9.0</td>\n",
              "      <td>10.0</td>\n",
              "      <td>0</td>\n",
              "    </tr>\n",
              "    <tr>\n",
              "      <th>935555</th>\n",
              "      <td>252641.0</td>\n",
              "      <td>1.0</td>\n",
              "      <td>2.0</td>\n",
              "      <td>249738.0</td>\n",
              "      <td>4.086401</td>\n",
              "      <td>5.0</td>\n",
              "      <td>252643.0</td>\n",
              "      <td>252643.0</td>\n",
              "      <td>14.0</td>\n",
              "      <td>15.0</td>\n",
              "      <td>251545.0</td>\n",
              "      <td>9.0</td>\n",
              "      <td>9.0</td>\n",
              "      <td>10.0</td>\n",
              "      <td>0</td>\n",
              "    </tr>\n",
              "  </tbody>\n",
              "</table>\n",
              "<p>1000 rows × 15 columns</p>\n",
              "</div>"
            ],
            "text/plain": [
              "        client_id  operation_type  ...  Card_type  Class\n",
              "934556   249547.0             1.0  ...       10.0      0\n",
              "934557   249551.0             1.0  ...       10.0      0\n",
              "934558   249555.0             1.0  ...       10.0      0\n",
              "934559   249559.0             1.0  ...       10.0      0\n",
              "934560   249562.0             1.0  ...       10.0      0\n",
              "...           ...             ...  ...        ...    ...\n",
              "935551   252629.0             1.0  ...       10.0      0\n",
              "935552   252632.0             1.0  ...       10.0      0\n",
              "935553   252635.0             1.0  ...       10.0      0\n",
              "935554   252638.0             1.0  ...       10.0      0\n",
              "935555   252641.0             1.0  ...       10.0      0\n",
              "\n",
              "[1000 rows x 15 columns]"
            ]
          },
          "metadata": {
            "tags": []
          },
          "execution_count": 87
        }
      ]
    },
    {
      "cell_type": "code",
      "metadata": {
        "colab": {
          "base_uri": "https://localhost:8080/",
          "height": 456
        },
        "id": "LVUJOCc1cz-7",
        "outputId": "a051f7f1-a7c0-47e4-e63e-5b82c42236c5"
      },
      "source": [
        "df_train_1"
      ],
      "execution_count": null,
      "outputs": [
        {
          "output_type": "execute_result",
          "data": {
            "text/html": [
              "<div>\n",
              "<style scoped>\n",
              "    .dataframe tbody tr th:only-of-type {\n",
              "        vertical-align: middle;\n",
              "    }\n",
              "\n",
              "    .dataframe tbody tr th {\n",
              "        vertical-align: top;\n",
              "    }\n",
              "\n",
              "    .dataframe thead th {\n",
              "        text-align: right;\n",
              "    }\n",
              "</style>\n",
              "<table border=\"1\" class=\"dataframe\">\n",
              "  <thead>\n",
              "    <tr style=\"text-align: right;\">\n",
              "      <th></th>\n",
              "      <th>client_id</th>\n",
              "      <th>operation_type</th>\n",
              "      <th>Direction_Of_Transaction</th>\n",
              "      <th>Date_Of_transaction</th>\n",
              "      <th>Summ</th>\n",
              "      <th>currency</th>\n",
              "      <th>summ_inCurrency</th>\n",
              "      <th>currency_of_payment_system</th>\n",
              "      <th>MCC-code_of_transaction</th>\n",
              "      <th>MCC_name_of_transaction</th>\n",
              "      <th>Business_type</th>\n",
              "      <th>ATM_Purpose</th>\n",
              "      <th>ATM_Other_purpose</th>\n",
              "      <th>Card_type</th>\n",
              "      <th>Class</th>\n",
              "    </tr>\n",
              "  </thead>\n",
              "  <tbody>\n",
              "    <tr>\n",
              "      <th>811962</th>\n",
              "      <td>99868.0</td>\n",
              "      <td>1.0</td>\n",
              "      <td>2.0</td>\n",
              "      <td>144.0</td>\n",
              "      <td>0.765531</td>\n",
              "      <td>5.0</td>\n",
              "      <td>69925.0</td>\n",
              "      <td>5.0</td>\n",
              "      <td>24.0</td>\n",
              "      <td>25.0</td>\n",
              "      <td>8.0</td>\n",
              "      <td>9.0</td>\n",
              "      <td>9.0</td>\n",
              "      <td>10.0</td>\n",
              "      <td>1</td>\n",
              "    </tr>\n",
              "    <tr>\n",
              "      <th>811963</th>\n",
              "      <td>99868.0</td>\n",
              "      <td>1.0</td>\n",
              "      <td>2.0</td>\n",
              "      <td>640.0</td>\n",
              "      <td>0.203911</td>\n",
              "      <td>5.0</td>\n",
              "      <td>39024.0</td>\n",
              "      <td>5.0</td>\n",
              "      <td>164.0</td>\n",
              "      <td>165.0</td>\n",
              "      <td>8.0</td>\n",
              "      <td>9.0</td>\n",
              "      <td>9.0</td>\n",
              "      <td>10.0</td>\n",
              "      <td>1</td>\n",
              "    </tr>\n",
              "    <tr>\n",
              "      <th>811964</th>\n",
              "      <td>99868.0</td>\n",
              "      <td>1.0</td>\n",
              "      <td>2.0</td>\n",
              "      <td>244.0</td>\n",
              "      <td>-0.493185</td>\n",
              "      <td>5.0</td>\n",
              "      <td>668.0</td>\n",
              "      <td>5.0</td>\n",
              "      <td>13353.0</td>\n",
              "      <td>13354.0</td>\n",
              "      <td>8.0</td>\n",
              "      <td>9.0</td>\n",
              "      <td>9.0</td>\n",
              "      <td>10.0</td>\n",
              "      <td>1</td>\n",
              "    </tr>\n",
              "    <tr>\n",
              "      <th>811965</th>\n",
              "      <td>99868.0</td>\n",
              "      <td>1.0</td>\n",
              "      <td>2.0</td>\n",
              "      <td>18.0</td>\n",
              "      <td>-0.494948</td>\n",
              "      <td>5.0</td>\n",
              "      <td>571.0</td>\n",
              "      <td>5.0</td>\n",
              "      <td>112.0</td>\n",
              "      <td>113.0</td>\n",
              "      <td>8.0</td>\n",
              "      <td>9.0</td>\n",
              "      <td>9.0</td>\n",
              "      <td>10.0</td>\n",
              "      <td>1</td>\n",
              "    </tr>\n",
              "    <tr>\n",
              "      <th>811966</th>\n",
              "      <td>99868.0</td>\n",
              "      <td>1.0</td>\n",
              "      <td>2.0</td>\n",
              "      <td>237.0</td>\n",
              "      <td>3.349539</td>\n",
              "      <td>5.0</td>\n",
              "      <td>212100.0</td>\n",
              "      <td>5.0</td>\n",
              "      <td>164.0</td>\n",
              "      <td>165.0</td>\n",
              "      <td>8.0</td>\n",
              "      <td>9.0</td>\n",
              "      <td>9.0</td>\n",
              "      <td>10.0</td>\n",
              "      <td>1</td>\n",
              "    </tr>\n",
              "    <tr>\n",
              "      <th>...</th>\n",
              "      <td>...</td>\n",
              "      <td>...</td>\n",
              "      <td>...</td>\n",
              "      <td>...</td>\n",
              "      <td>...</td>\n",
              "      <td>...</td>\n",
              "      <td>...</td>\n",
              "      <td>...</td>\n",
              "      <td>...</td>\n",
              "      <td>...</td>\n",
              "      <td>...</td>\n",
              "      <td>...</td>\n",
              "      <td>...</td>\n",
              "      <td>...</td>\n",
              "      <td>...</td>\n",
              "    </tr>\n",
              "    <tr>\n",
              "      <th>934546</th>\n",
              "      <td>21501.0</td>\n",
              "      <td>1.0</td>\n",
              "      <td>2.0</td>\n",
              "      <td>56463.0</td>\n",
              "      <td>-0.409072</td>\n",
              "      <td>5.0</td>\n",
              "      <td>5296.0</td>\n",
              "      <td>5.0</td>\n",
              "      <td>509.0</td>\n",
              "      <td>510.0</td>\n",
              "      <td>8.0</td>\n",
              "      <td>9.0</td>\n",
              "      <td>9.0</td>\n",
              "      <td>10.0</td>\n",
              "      <td>1</td>\n",
              "    </tr>\n",
              "    <tr>\n",
              "      <th>934549</th>\n",
              "      <td>21607.0</td>\n",
              "      <td>1.0</td>\n",
              "      <td>2.0</td>\n",
              "      <td>56368.0</td>\n",
              "      <td>-0.389879</td>\n",
              "      <td>5.0</td>\n",
              "      <td>6352.0</td>\n",
              "      <td>5.0</td>\n",
              "      <td>24.0</td>\n",
              "      <td>25.0</td>\n",
              "      <td>8.0</td>\n",
              "      <td>9.0</td>\n",
              "      <td>9.0</td>\n",
              "      <td>10.0</td>\n",
              "      <td>1</td>\n",
              "    </tr>\n",
              "    <tr>\n",
              "      <th>934553</th>\n",
              "      <td>3412.0</td>\n",
              "      <td>1.0</td>\n",
              "      <td>2.0</td>\n",
              "      <td>56377.0</td>\n",
              "      <td>-0.503817</td>\n",
              "      <td>5.0</td>\n",
              "      <td>2113.0</td>\n",
              "      <td>5.0</td>\n",
              "      <td>160.0</td>\n",
              "      <td>161.0</td>\n",
              "      <td>16.0</td>\n",
              "      <td>9.0</td>\n",
              "      <td>9.0</td>\n",
              "      <td>10.0</td>\n",
              "      <td>1</td>\n",
              "    </tr>\n",
              "    <tr>\n",
              "      <th>934554</th>\n",
              "      <td>32939.0</td>\n",
              "      <td>1.0</td>\n",
              "      <td>2.0</td>\n",
              "      <td>56469.0</td>\n",
              "      <td>-0.421067</td>\n",
              "      <td>5.0</td>\n",
              "      <td>4637.0</td>\n",
              "      <td>5.0</td>\n",
              "      <td>24.0</td>\n",
              "      <td>25.0</td>\n",
              "      <td>8.0</td>\n",
              "      <td>9.0</td>\n",
              "      <td>9.0</td>\n",
              "      <td>10.0</td>\n",
              "      <td>1</td>\n",
              "    </tr>\n",
              "    <tr>\n",
              "      <th>934555</th>\n",
              "      <td>21608.0</td>\n",
              "      <td>1.0</td>\n",
              "      <td>11.0</td>\n",
              "      <td>56427.0</td>\n",
              "      <td>-0.501200</td>\n",
              "      <td>5.0</td>\n",
              "      <td>227.0</td>\n",
              "      <td>5.0</td>\n",
              "      <td>146.0</td>\n",
              "      <td>147.0</td>\n",
              "      <td>16.0</td>\n",
              "      <td>9.0</td>\n",
              "      <td>9.0</td>\n",
              "      <td>10.0</td>\n",
              "      <td>1</td>\n",
              "    </tr>\n",
              "  </tbody>\n",
              "</table>\n",
              "<p>106064 rows × 15 columns</p>\n",
              "</div>"
            ],
            "text/plain": [
              "        client_id  operation_type  ...  Card_type  Class\n",
              "811962    99868.0             1.0  ...       10.0      1\n",
              "811963    99868.0             1.0  ...       10.0      1\n",
              "811964    99868.0             1.0  ...       10.0      1\n",
              "811965    99868.0             1.0  ...       10.0      1\n",
              "811966    99868.0             1.0  ...       10.0      1\n",
              "...           ...             ...  ...        ...    ...\n",
              "934546    21501.0             1.0  ...       10.0      1\n",
              "934549    21607.0             1.0  ...       10.0      1\n",
              "934553     3412.0             1.0  ...       10.0      1\n",
              "934554    32939.0             1.0  ...       10.0      1\n",
              "934555    21608.0             1.0  ...       10.0      1\n",
              "\n",
              "[106064 rows x 15 columns]"
            ]
          },
          "metadata": {
            "tags": []
          },
          "execution_count": 88
        }
      ]
    },
    {
      "cell_type": "code",
      "metadata": {
        "id": "iDC9PPwpsgL4"
      },
      "source": [
        "df_sample=df_train_0.sample(300)\n",
        "df_train = df_train_1.append(df_sample) \n",
        "df_train = df_train.sample(frac=1)"
      ],
      "execution_count": null,
      "outputs": []
    },
    {
      "cell_type": "code",
      "metadata": {
        "colab": {
          "base_uri": "https://localhost:8080/"
        },
        "id": "AhE-1HPjs0dh",
        "outputId": "a41c5064-5f88-4183-b681-1026d751206b"
      },
      "source": [
        "print(len(df_train))"
      ],
      "execution_count": null,
      "outputs": [
        {
          "output_type": "stream",
          "text": [
            "106364\n"
          ],
          "name": "stdout"
        }
      ]
    },
    {
      "cell_type": "code",
      "metadata": {
        "id": "3QafLMSVsURg"
      },
      "source": [
        "X_train = df_train.drop(['Date_Of_transaction', 'Class'],axis=1)\n",
        "y_train = df_train['Class']\n",
        "X_train = np.asarray(X_train)\n",
        "y_train = np.asarray(y_train)"
      ],
      "execution_count": null,
      "outputs": []
    },
    {
      "cell_type": "code",
      "metadata": {
        "colab": {
          "base_uri": "https://localhost:8080/"
        },
        "id": "7MaFNGFHgwuh",
        "outputId": "587ef2dc-490c-44e8-fd1e-d4e50dd2e484"
      },
      "source": [
        "X_train.shape"
      ],
      "execution_count": null,
      "outputs": [
        {
          "output_type": "execute_result",
          "data": {
            "text/plain": [
              "(106364, 13)"
            ]
          },
          "metadata": {
            "tags": []
          },
          "execution_count": 92
        }
      ]
    },
    {
      "cell_type": "code",
      "metadata": {
        "id": "kCYI4nXAVRtV"
      },
      "source": [
        "X_train = df_train.drop(['Date_Of_transaction', 'Class'],axis=1)"
      ],
      "execution_count": null,
      "outputs": []
    },
    {
      "cell_type": "code",
      "metadata": {
        "colab": {
          "base_uri": "https://localhost:8080/"
        },
        "id": "JbChJua8aBVC",
        "outputId": "23497a28-150e-450d-fe00-98f1bfe9139c"
      },
      "source": [
        "data.shape"
      ],
      "execution_count": null,
      "outputs": [
        {
          "output_type": "execute_result",
          "data": {
            "text/plain": [
              "(907064, 15)"
            ]
          },
          "metadata": {
            "tags": []
          },
          "execution_count": 94
        }
      ]
    },
    {
      "cell_type": "markdown",
      "metadata": {
        "id": "EQtcl_FZ7g_J"
      },
      "source": [
        "Подготовим тренировочную выборку"
      ]
    },
    {
      "cell_type": "code",
      "metadata": {
        "id": "meDJLwa5tPyy"
      },
      "source": [
        "df_test_all = data[906000:996500]\n",
        "\n",
        "X_test_all = df_test_all.drop(['Date_Of_transaction', 'Class'],axis=1)\n",
        "y_test_all = df_test_all['Class']\n",
        "X_test_all = np.asarray(X_test_all)\n",
        "y_test_all = np.asarray(y_test_all)"
      ],
      "execution_count": null,
      "outputs": []
    },
    {
      "cell_type": "code",
      "metadata": {
        "colab": {
          "base_uri": "https://localhost:8080/"
        },
        "id": "VysnMnTzyOSW",
        "outputId": "653556fc-2117-4955-e258-2ceb4c489d8e"
      },
      "source": [
        "print('Тренировочная выборка содержит: ', len(df_test_all[df_test_all['Class'] == 0]), 'мошеннических транзакций')"
      ],
      "execution_count": null,
      "outputs": [
        {
          "output_type": "stream",
          "text": [
            "Тренировочная выборка содержит:  1000 мошеннических транзакций\n"
          ],
          "name": "stdout"
        }
      ]
    },
    {
      "cell_type": "code",
      "metadata": {
        "colab": {
          "base_uri": "https://localhost:8080/"
        },
        "id": "RHrbPLKVNLuo",
        "outputId": "6bec8c4c-c78c-409f-a854-36453b292f6d"
      },
      "source": [
        "df_test_all.shape"
      ],
      "execution_count": null,
      "outputs": [
        {
          "output_type": "execute_result",
          "data": {
            "text/plain": [
              "(1064, 15)"
            ]
          },
          "metadata": {
            "tags": []
          },
          "execution_count": 97
        }
      ]
    },
    {
      "cell_type": "code",
      "metadata": {
        "colab": {
          "base_uri": "https://localhost:8080/"
        },
        "id": "JP2-3VpyN9Dd",
        "outputId": "0e05ef4f-a1a1-47ad-c4f0-1521539a4619"
      },
      "source": [
        "X_test_all.shape"
      ],
      "execution_count": null,
      "outputs": [
        {
          "output_type": "execute_result",
          "data": {
            "text/plain": [
              "(1064, 13)"
            ]
          },
          "metadata": {
            "tags": []
          },
          "execution_count": 98
        }
      ]
    },
    {
      "cell_type": "code",
      "metadata": {
        "colab": {
          "base_uri": "https://localhost:8080/"
        },
        "id": "83r2PhIQgeja",
        "outputId": "5769c9e7-3d57-4a6f-bf9d-c82eaa87d350"
      },
      "source": [
        "X_train.shape"
      ],
      "execution_count": null,
      "outputs": [
        {
          "output_type": "execute_result",
          "data": {
            "text/plain": [
              "(106364, 13)"
            ]
          },
          "metadata": {
            "tags": []
          },
          "execution_count": 99
        }
      ]
    },
    {
      "cell_type": "markdown",
      "metadata": {
        "id": "sPbk4fVN7-fQ"
      },
      "source": [
        "## **Классификация**"
      ]
    },
    {
      "cell_type": "markdown",
      "metadata": {
        "id": "xP9rcUIPuE0N"
      },
      "source": [
        "**Классификация SVM**"
      ]
    },
    {
      "cell_type": "code",
      "metadata": {
        "colab": {
          "base_uri": "https://localhost:8080/"
        },
        "id": "7RvyPQ1xtWQh",
        "outputId": "d210e120-2c82-4776-ab0b-711cccc67b75"
      },
      "source": [
        "cls = svm.SVC(kernel='linear')\n",
        "cls.fit(X_train, y_train)"
      ],
      "execution_count": null,
      "outputs": [
        {
          "output_type": "execute_result",
          "data": {
            "text/plain": [
              "SVC(C=1.0, break_ties=False, cache_size=200, class_weight=None, coef0=0.0,\n",
              "    decision_function_shape='ovr', degree=3, gamma='scale', kernel='linear',\n",
              "    max_iter=-1, probability=False, random_state=None, shrinking=True,\n",
              "    tol=0.001, verbose=False)"
            ]
          },
          "metadata": {
            "tags": []
          },
          "execution_count": 100
        }
      ]
    },
    {
      "cell_type": "code",
      "metadata": {
        "id": "C7s4uG_pumip"
      },
      "source": [
        "pred = cls.predict(X_test_all)"
      ],
      "execution_count": null,
      "outputs": []
    },
    {
      "cell_type": "code",
      "metadata": {
        "colab": {
          "base_uri": "https://localhost:8080/",
          "height": 313
        },
        "id": "D8ARgaxHurQG",
        "outputId": "b8707dfb-8d24-4250-df2f-2d312cbe392c"
      },
      "source": [
        "cm = confusion_matrix(y_test_all, pred)\n",
        "plot_confusion_matrix(cm)"
      ],
      "execution_count": null,
      "outputs": [
        {
          "output_type": "execute_result",
          "data": {
            "text/plain": [
              "(<Figure size 432x288 with 1 Axes>,\n",
              " <matplotlib.axes._subplots.AxesSubplot at 0x7f53a04234d0>)"
            ]
          },
          "metadata": {
            "tags": []
          },
          "execution_count": 102
        },
        {
          "output_type": "display_data",
          "data": {
            "image/png": "[encoded data removed]",
            "text/plain": [
              "<Figure size 432x288 with 1 Axes>"
            ]
          },
          "metadata": {
            "tags": [],
            "needs_background": "light"
          }
        }
      ]
    },
    {
      "cell_type": "code",
      "metadata": {
        "colab": {
          "base_uri": "https://localhost:8080/"
        },
        "id": "I2-WIVGpzIbT",
        "outputId": "d63721c0-522a-4b16-c8a8-34b3f86491e0"
      },
      "source": [
        "cm"
      ],
      "execution_count": null,
      "outputs": [
        {
          "output_type": "execute_result",
          "data": {
            "text/plain": [
              "array([[1000,    0],\n",
              "       [   0,   64]])"
            ]
          },
          "metadata": {
            "tags": []
          },
          "execution_count": 103
        }
      ]
    },
    {
      "cell_type": "code",
      "metadata": {
        "id": "Ak-Wyu9r0cPF"
      },
      "source": [
        "from sklearn.metrics import accuracy_score"
      ],
      "execution_count": null,
      "outputs": []
    },
    {
      "cell_type": "code",
      "metadata": {
        "colab": {
          "base_uri": "https://localhost:8080/"
        },
        "id": "ogucfhRo0rrD",
        "outputId": "55c36c7c-baba-45a7-e437-a48789806271"
      },
      "source": [
        "print('Accuracy: ', accuracy_score(y_test_all, pred))"
      ],
      "execution_count": null,
      "outputs": [
        {
          "output_type": "stream",
          "text": [
            "Accuracy:  1.0\n"
          ],
          "name": "stdout"
        }
      ]
    },
    {
      "cell_type": "code",
      "metadata": {
        "id": "9habLutQ5ruY"
      },
      "source": [
        "from sklearn.tree import export_graphviz"
      ],
      "execution_count": null,
      "outputs": []
    },
    {
      "cell_type": "markdown",
      "metadata": {
        "id": "Xw7v3zdQ8Ez1"
      },
      "source": [
        "**Случайный лес**"
      ]
    },
    {
      "cell_type": "code",
      "metadata": {
        "id": "Awj2FzWJ1D9s",
        "colab": {
          "base_uri": "https://localhost:8080/",
          "height": 1000
        },
        "outputId": "024d9512-a3f2-48d3-dfea-bdb3b190a991"
      },
      "source": [
        "#visualizing RF\n",
        "model = RandomForestClassifier(n_estimators=10)\n",
        "\n",
        "# Train\n",
        "model.fit(X_train, y_train)\n",
        "# Extract single tree\n",
        "estimator = model.estimators_[5]\n",
        "\n",
        "from sklearn.tree import export_graphviz\n",
        "# Export as dot file\n",
        "export_graphviz(estimator, out_file='tree.dot', \n",
        "                feature_names = data.drop(['Date_Of_transaction', 'Class'], axis=1).columns.tolist(),\n",
        "                class_names = ['0',' 1'],\n",
        "                rounded = True, proportion = False, \n",
        "                precision = 2, filled = True)\n",
        "# Convert to png\n",
        "from subprocess import call\n",
        "call(['dot', '-Tpng', 'tree.dot', '-o', 'tree.png', '-Gdpi=600'])\n",
        "# Display in jupyter notebook\n",
        "from IPython.display import Image\n",
        "Image(filename = 'tree.png')"
      ],
      "execution_count": null,
      "outputs": [
        {
          "output_type": "execute_result",
          "data": {
            "image/png": "[encoded data removed]",
            "text/plain": [
              "<IPython.core.display.Image object>"
            ]
          },
          "metadata": {
            "tags": []
          },
          "execution_count": 107
        }
      ]
    },
    {
      "cell_type": "code",
      "metadata": {
        "id": "YLQudboP7gjr",
        "colab": {
          "base_uri": "https://localhost:8080/"
        },
        "outputId": "63bc3eef-191a-4da7-a2d8-f39d27d78761"
      },
      "source": [
        "pred = model.predict(X_test_all)\n",
        "\n",
        "print(\"Accuracy:\", accuracy_score(y_test_all, pred))"
      ],
      "execution_count": null,
      "outputs": [
        {
          "output_type": "stream",
          "text": [
            "Accuracy: 1.0\n"
          ],
          "name": "stdout"
        }
      ]
    },
    {
      "cell_type": "code",
      "metadata": {
        "id": "2GPvn2Qqp0De",
        "colab": {
          "base_uri": "https://localhost:8080/",
          "height": 313
        },
        "outputId": "075582e5-9dce-4726-d68c-12379f5e8ab0"
      },
      "source": [
        "cm = confusion_matrix(y_test_all, pred)\n",
        "plot_confusion_matrix(cm)"
      ],
      "execution_count": null,
      "outputs": [
        {
          "output_type": "execute_result",
          "data": {
            "text/plain": [
              "(<Figure size 432x288 with 1 Axes>,\n",
              " <matplotlib.axes._subplots.AxesSubplot at 0x7f53a056bf50>)"
            ]
          },
          "metadata": {
            "tags": []
          },
          "execution_count": 109
        },
        {
          "output_type": "display_data",
          "data": {
            "image/png": "[encoded data removed]",
            "text/plain": [
              "<Figure size 432x288 with 1 Axes>"
            ]
          },
          "metadata": {
            "tags": [],
            "needs_background": "light"
          }
        }
      ]
    },
    {
      "cell_type": "code",
      "metadata": {
        "id": "v66byfl9p-yf",
        "colab": {
          "base_uri": "https://localhost:8080/"
        },
        "outputId": "c55c322b-6a7f-4c2a-c965-e256f7fc6841"
      },
      "source": [
        "cm"
      ],
      "execution_count": null,
      "outputs": [
        {
          "output_type": "execute_result",
          "data": {
            "text/plain": [
              "array([[1000,    0],\n",
              "       [   0,   64]])"
            ]
          },
          "metadata": {
            "tags": []
          },
          "execution_count": 110
        }
      ]
    },
    {
      "cell_type": "markdown",
      "metadata": {
        "id": "8-n4QNek8Om9"
      },
      "source": [
        "**LogisticRegression, LinearDiscriminantAnalysis, KNeighborsClassifier, DecisionTreeClassifier, SVC, XGBClassifier, RandomForestClassifier**"
      ]
    },
    {
      "cell_type": "code",
      "metadata": {
        "id": "gwVXJgXA7xMl",
        "colab": {
          "base_uri": "https://localhost:8080/"
        },
        "outputId": "9ae200fc-243e-4066-d1f9-127904016123"
      },
      "source": [
        "models = []\n",
        "\n",
        "models.append(('LR', LogisticRegression()))\n",
        "models.append(('LDA', LinearDiscriminantAnalysis()))\n",
        "models.append(('KNN', KNeighborsClassifier()))\n",
        "models.append(('CART', DecisionTreeClassifier()))\n",
        "models.append(('SVM', SVC()))\n",
        "models.append(('XGB', XGBClassifier()))\n",
        "models.append(('RF', RandomForestClassifier()))\n",
        "\n",
        "results = []\n",
        "names = []\n",
        "\n",
        "for name, model in models:\n",
        "    kfold = KFold(n_splits=10, random_state=42)\n",
        "    cv_results = cross_val_score(model, X_train, y_train, cv=kfold, scoring='roc_auc')\n",
        "    results.append(cv_results)\n",
        "    names.append(name)\n",
        "    print(name, \":\", cv_results.mean())"
      ],
      "execution_count": null,
      "outputs": [
        {
          "output_type": "stream",
          "text": [
            "LR : 1.0\n",
            "LDA : 1.0\n",
            "KNN : 1.0\n",
            "CART : 1.0\n",
            "SVM : 1.0\n",
            "XGB : 1.0\n",
            "RF : 1.0\n"
          ],
          "name": "stdout"
        }
      ]
    },
    {
      "cell_type": "code",
      "metadata": {
        "id": "5UcC-K5l-PtZ",
        "colab": {
          "base_uri": "https://localhost:8080/"
        },
        "outputId": "2935e3cf-c8a0-474b-bdc0-6363024da9f9"
      },
      "source": [
        "results"
      ],
      "execution_count": null,
      "outputs": [
        {
          "output_type": "execute_result",
          "data": {
            "text/plain": [
              "[array([1., 1., 1., 1., 1., 1., 1., 1., 1., 1.]),\n",
              " array([1., 1., 1., 1., 1., 1., 1., 1., 1., 1.]),\n",
              " array([1., 1., 1., 1., 1., 1., 1., 1., 1., 1.]),\n",
              " array([1., 1., 1., 1., 1., 1., 1., 1., 1., 1.]),\n",
              " array([1., 1., 1., 1., 1., 1., 1., 1., 1., 1.]),\n",
              " array([1., 1., 1., 1., 1., 1., 1., 1., 1., 1.]),\n",
              " array([1., 1., 1., 1., 1., 1., 1., 1., 1., 1.])]"
            ]
          },
          "metadata": {
            "tags": []
          },
          "execution_count": 112
        }
      ]
    },
    {
      "cell_type": "markdown",
      "metadata": {
        "id": "MzsiVHq48gr1"
      },
      "source": [
        "Визуализация результатов"
      ]
    },
    {
      "cell_type": "code",
      "metadata": {
        "id": "dt-sbSR8958S",
        "colab": {
          "base_uri": "https://localhost:8080/",
          "height": 592
        },
        "outputId": "f633abea-5716-47bf-f414-80ec07ef0a40"
      },
      "source": [
        "fig = plt.figure(figsize=(12,10))\n",
        "plt.ylabel('ROC-AUC Score')\n",
        "plt.boxplot(results)\n",
        "ax = fig.add_subplot(111)\n",
        "ax.set_xticklabels(names)\n",
        "plt.show()"
      ],
      "execution_count": null,
      "outputs": [
        {
          "output_type": "display_data",
          "data": {
            "image/png": "[encoded data removed]",
            "text/plain": [
              "<Figure size 864x720 with 1 Axes>"
            ]
          },
          "metadata": {
            "tags": [],
            "needs_background": "light"
          }
        }
      ]
    },
    {
      "cell_type": "markdown",
      "metadata": {
        "id": "QnVlnivF_EW3"
      },
      "source": [
        "## **Поиск выбросов**"
      ]
    },
    {
      "cell_type": "markdown",
      "metadata": {
        "id": "a9vaGhPO8rR8"
      },
      "source": [
        "Так как транзакции мошенников это тоже выбросы, то можно произвести поиск выбросов"
      ]
    },
    {
      "cell_type": "markdown",
      "metadata": {
        "id": "db0VOkDh85BU"
      },
      "source": [
        "**IsolationForest**"
      ]
    },
    {
      "cell_type": "code",
      "metadata": {
        "id": "-mijTyOqKWH0"
      },
      "source": [
        " from sklearn.model_selection import train_test_split"
      ],
      "execution_count": null,
      "outputs": []
    },
    {
      "cell_type": "code",
      "metadata": {
        "id": "ffl6hBedKiBQ"
      },
      "source": [
        "X = data.drop(['Date_Of_transaction', 'Class'], axis =1 )\n",
        "y = data['Class']"
      ],
      "execution_count": null,
      "outputs": []
    },
    {
      "cell_type": "code",
      "metadata": {
        "id": "vvmpw4qWKOVH"
      },
      "source": [
        "X_train, X_test, y_train, y_test = train_test_split( X, y, test_size=0.8, random_state=42)"
      ],
      "execution_count": null,
      "outputs": []
    },
    {
      "cell_type": "code",
      "metadata": {
        "id": "u-oOr5kQ_mPK"
      },
      "source": [
        "from sklearn.ensemble import IsolationForest"
      ],
      "execution_count": null,
      "outputs": []
    },
    {
      "cell_type": "code",
      "metadata": {
        "id": "TYSi_woA_y78",
        "colab": {
          "base_uri": "https://localhost:8080/"
        },
        "outputId": "f37642eb-b279-4bae-92e3-1171f2597c46"
      },
      "source": [
        "iforest = IsolationForest(contamination = 0.03,n_estimators = 100, max_samples = 0.6, max_features = 0.6,random_state = 42)\n",
        "iforest.fit(X_train)"
      ],
      "execution_count": null,
      "outputs": [
        {
          "output_type": "execute_result",
          "data": {
            "text/plain": [
              "IsolationForest(behaviour='deprecated', bootstrap=False, contamination=0.03,\n",
              "                max_features=0.6, max_samples=0.6, n_estimators=100,\n",
              "                n_jobs=None, random_state=42, verbose=0, warm_start=False)"
            ]
          },
          "metadata": {
            "tags": []
          },
          "execution_count": 118
        }
      ]
    },
    {
      "cell_type": "code",
      "metadata": {
        "id": "5uk8r_p0_2cn",
        "colab": {
          "base_uri": "https://localhost:8080/",
          "height": 313
        },
        "outputId": "ee25a209-0e93-4dfe-b379-52aa9eeca55b"
      },
      "source": [
        "pred = iforest.predict(X_test_all)\n",
        "for n, i in enumerate(pred):\n",
        "  if i == 1:\n",
        "    pred[n] = 1\n",
        "  elif i == -1:\n",
        "    pred[n] = 0\n",
        "cm = confusion_matrix(y_test_all, pred)\n",
        "plot_confusion_matrix(cm)"
      ],
      "execution_count": null,
      "outputs": [
        {
          "output_type": "execute_result",
          "data": {
            "text/plain": [
              "(<Figure size 432x288 with 1 Axes>,\n",
              " <matplotlib.axes._subplots.AxesSubplot at 0x7f53a05a8f10>)"
            ]
          },
          "metadata": {
            "tags": []
          },
          "execution_count": 119
        },
        {
          "output_type": "display_data",
          "data": {
            "image/png": "[encoded data removed]",
            "text/plain": [
              "<Figure size 432x288 with 1 Axes>"
            ]
          },
          "metadata": {
            "tags": [],
            "needs_background": "light"
          }
        }
      ]
    },
    {
      "cell_type": "code",
      "metadata": {
        "id": "XzpD1Z8MC6H3",
        "colab": {
          "base_uri": "https://localhost:8080/"
        },
        "outputId": "d11f73a6-83e1-45d7-f0e0-154852d1110c"
      },
      "source": [
        "cm"
      ],
      "execution_count": null,
      "outputs": [
        {
          "output_type": "execute_result",
          "data": {
            "text/plain": [
              "array([[1000,    0],\n",
              "       [   3,   61]])"
            ]
          },
          "metadata": {
            "tags": []
          },
          "execution_count": 120
        }
      ]
    },
    {
      "cell_type": "markdown",
      "metadata": {
        "id": "OxDKhPBx88s4"
      },
      "source": [
        "**OneClassSVM**"
      ]
    },
    {
      "cell_type": "code",
      "metadata": {
        "id": "thL4wI3uEFtS",
        "colab": {
          "base_uri": "https://localhost:8080/"
        },
        "outputId": "8a55a60c-1c30-4651-ff57-cdced5fa7346"
      },
      "source": [
        "one_svm = svm.OneClassSVM(nu = 0.03,kernel = 'rbf')\n",
        "one_svm.fit(X_train)"
      ],
      "execution_count": null,
      "outputs": [
        {
          "output_type": "execute_result",
          "data": {
            "text/plain": [
              "OneClassSVM(cache_size=200, coef0=0.0, degree=3, gamma='scale', kernel='rbf',\n",
              "            max_iter=-1, nu=0.03, shrinking=True, tol=0.001, verbose=False)"
            ]
          },
          "metadata": {
            "tags": []
          },
          "execution_count": 121
        }
      ]
    },
    {
      "cell_type": "code",
      "metadata": {
        "id": "uXz4o_kqE1NX",
        "colab": {
          "base_uri": "https://localhost:8080/",
          "height": 313
        },
        "outputId": "2313c899-8ddd-4312-80df-df7f18e6eef0"
      },
      "source": [
        "pred = one_svm.predict(X_test_all)\n",
        "for n, i in enumerate(pred):\n",
        "  if i == 1:\n",
        "    pred[n] = 1\n",
        "  elif i == -1:\n",
        "    pred[n] = 0\n",
        "cm = confusion_matrix(y_test_all, pred)\n",
        "plot_confusion_matrix(cm)"
      ],
      "execution_count": null,
      "outputs": [
        {
          "output_type": "execute_result",
          "data": {
            "text/plain": [
              "(<Figure size 432x288 with 1 Axes>,\n",
              " <matplotlib.axes._subplots.AxesSubplot at 0x7f53a059d350>)"
            ]
          },
          "metadata": {
            "tags": []
          },
          "execution_count": 122
        },
        {
          "output_type": "display_data",
          "data": {
            "image/png": "[encoded data removed]",
            "text/plain": [
              "<Figure size 432x288 with 1 Axes>"
            ]
          },
          "metadata": {
            "tags": [],
            "needs_background": "light"
          }
        }
      ]
    },
    {
      "cell_type": "code",
      "metadata": {
        "id": "gxmoBEbEFM93",
        "colab": {
          "base_uri": "https://localhost:8080/"
        },
        "outputId": "08f1568e-ee97-4899-d142-cfa83aec847a"
      },
      "source": [
        "cm"
      ],
      "execution_count": null,
      "outputs": [
        {
          "output_type": "execute_result",
          "data": {
            "text/plain": [
              "array([[1000,    0],\n",
              "       [   4,   60]])"
            ]
          },
          "metadata": {
            "tags": []
          },
          "execution_count": 123
        }
      ]
    },
    {
      "cell_type": "markdown",
      "metadata": {
        "id": "sPXjel2HF-cB"
      },
      "source": [
        "## **Нейронная сеть**"
      ]
    },
    {
      "cell_type": "code",
      "metadata": {
        "id": "weKFPArPEU9K"
      },
      "source": [
        "from random import randint\n",
        "from tensorflow import keras"
      ],
      "execution_count": null,
      "outputs": []
    },
    {
      "cell_type": "code",
      "metadata": {
        "id": "rKqiyLAg_cbn"
      },
      "source": [
        "df = data.copy()"
      ],
      "execution_count": null,
      "outputs": []
    },
    {
      "cell_type": "code",
      "metadata": {
        "id": "aH5-aEUg--_k",
        "colab": {
          "base_uri": "https://localhost:8080/",
          "height": 561
        },
        "outputId": "8e88e7e5-406e-4c62-8917-8f8433a7d9d6"
      },
      "source": [
        "y=df.pop('Class')\n",
        "df.pop('Date_Of_transaction')\n",
        "x=df.values\n",
        "y=np.array(y)"
      ],
      "execution_count": null,
      "outputs": [
        {
          "output_type": "error",
          "ename": "KeyError",
          "evalue": "ignored",
          "traceback": [
            "\u001b[0;31m---------------------------------------------------------------------------\u001b[0m",
            "\u001b[0;31mKeyError\u001b[0m                                  Traceback (most recent call last)",
            "\u001b[0;32m/usr/local/lib/python3.7/dist-packages/pandas/core/indexes/base.py\u001b[0m in \u001b[0;36mget_loc\u001b[0;34m(self, key, method, tolerance)\u001b[0m\n\u001b[1;32m   2897\u001b[0m             \u001b[0;32mtry\u001b[0m\u001b[0;34m:\u001b[0m\u001b[0;34m\u001b[0m\u001b[0;34m\u001b[0m\u001b[0m\n\u001b[0;32m-> 2898\u001b[0;31m                 \u001b[0;32mreturn\u001b[0m \u001b[0mself\u001b[0m\u001b[0;34m.\u001b[0m\u001b[0m_engine\u001b[0m\u001b[0;34m.\u001b[0m\u001b[0mget_loc\u001b[0m\u001b[0;34m(\u001b[0m\u001b[0mcasted_key\u001b[0m\u001b[0;34m)\u001b[0m\u001b[0;34m\u001b[0m\u001b[0;34m\u001b[0m\u001b[0m\n\u001b[0m\u001b[1;32m   2899\u001b[0m             \u001b[0;32mexcept\u001b[0m \u001b[0mKeyError\u001b[0m \u001b[0;32mas\u001b[0m \u001b[0merr\u001b[0m\u001b[0;34m:\u001b[0m\u001b[0;34m\u001b[0m\u001b[0;34m\u001b[0m\u001b[0m\n",
            "\u001b[0;32mpandas/_libs/index.pyx\u001b[0m in \u001b[0;36mpandas._libs.index.IndexEngine.get_loc\u001b[0;34m()\u001b[0m\n",
            "\u001b[0;32mpandas/_libs/index.pyx\u001b[0m in \u001b[0;36mpandas._libs.index.IndexEngine.get_loc\u001b[0;34m()\u001b[0m\n",
            "\u001b[0;32mpandas/_libs/hashtable_class_helper.pxi\u001b[0m in \u001b[0;36mpandas._libs.hashtable.PyObjectHashTable.get_item\u001b[0;34m()\u001b[0m\n",
            "\u001b[0;32mpandas/_libs/hashtable_class_helper.pxi\u001b[0m in \u001b[0;36mpandas._libs.hashtable.PyObjectHashTable.get_item\u001b[0;34m()\u001b[0m\n",
            "\u001b[0;31mKeyError\u001b[0m: 'Class'",
            "\nThe above exception was the direct cause of the following exception:\n",
            "\u001b[0;31mKeyError\u001b[0m                                  Traceback (most recent call last)",
            "\u001b[0;32m<ipython-input-137-331b6d1169a8>\u001b[0m in \u001b[0;36m<module>\u001b[0;34m()\u001b[0m\n\u001b[0;32m----> 1\u001b[0;31m \u001b[0my\u001b[0m\u001b[0;34m=\u001b[0m\u001b[0mdf\u001b[0m\u001b[0;34m.\u001b[0m\u001b[0mpop\u001b[0m\u001b[0;34m(\u001b[0m\u001b[0;34m'Class'\u001b[0m\u001b[0;34m)\u001b[0m\u001b[0;34m\u001b[0m\u001b[0;34m\u001b[0m\u001b[0m\n\u001b[0m\u001b[1;32m      2\u001b[0m \u001b[0mdf\u001b[0m\u001b[0;34m.\u001b[0m\u001b[0mpop\u001b[0m\u001b[0;34m(\u001b[0m\u001b[0;34m'Date_Of_transaction'\u001b[0m\u001b[0;34m)\u001b[0m\u001b[0;34m\u001b[0m\u001b[0;34m\u001b[0m\u001b[0m\n\u001b[1;32m      3\u001b[0m \u001b[0mx\u001b[0m\u001b[0;34m=\u001b[0m\u001b[0mdf\u001b[0m\u001b[0;34m.\u001b[0m\u001b[0mvalues\u001b[0m\u001b[0;34m\u001b[0m\u001b[0;34m\u001b[0m\u001b[0m\n\u001b[1;32m      4\u001b[0m \u001b[0my\u001b[0m\u001b[0;34m=\u001b[0m\u001b[0mnp\u001b[0m\u001b[0;34m.\u001b[0m\u001b[0marray\u001b[0m\u001b[0;34m(\u001b[0m\u001b[0my\u001b[0m\u001b[0;34m)\u001b[0m\u001b[0;34m\u001b[0m\u001b[0;34m\u001b[0m\u001b[0m\n",
            "\u001b[0;32m/usr/local/lib/python3.7/dist-packages/pandas/core/frame.py\u001b[0m in \u001b[0;36mpop\u001b[0;34m(self, item)\u001b[0m\n\u001b[1;32m   4369\u001b[0m         \u001b[0;36m3\u001b[0m  \u001b[0mmonkey\u001b[0m        \u001b[0mNaN\u001b[0m\u001b[0;34m\u001b[0m\u001b[0;34m\u001b[0m\u001b[0m\n\u001b[1;32m   4370\u001b[0m         \"\"\"\n\u001b[0;32m-> 4371\u001b[0;31m         \u001b[0;32mreturn\u001b[0m \u001b[0msuper\u001b[0m\u001b[0;34m(\u001b[0m\u001b[0;34m)\u001b[0m\u001b[0;34m.\u001b[0m\u001b[0mpop\u001b[0m\u001b[0;34m(\u001b[0m\u001b[0mitem\u001b[0m\u001b[0;34m=\u001b[0m\u001b[0mitem\u001b[0m\u001b[0;34m)\u001b[0m\u001b[0;34m\u001b[0m\u001b[0;34m\u001b[0m\u001b[0m\n\u001b[0m\u001b[1;32m   4372\u001b[0m \u001b[0;34m\u001b[0m\u001b[0m\n\u001b[1;32m   4373\u001b[0m     \u001b[0;34m@\u001b[0m\u001b[0mdoc\u001b[0m\u001b[0;34m(\u001b[0m\u001b[0mNDFrame\u001b[0m\u001b[0;34m.\u001b[0m\u001b[0mreplace\u001b[0m\u001b[0;34m,\u001b[0m \u001b[0;34m**\u001b[0m\u001b[0m_shared_doc_kwargs\u001b[0m\u001b[0;34m)\u001b[0m\u001b[0;34m\u001b[0m\u001b[0;34m\u001b[0m\u001b[0m\n",
            "\u001b[0;32m/usr/local/lib/python3.7/dist-packages/pandas/core/generic.py\u001b[0m in \u001b[0;36mpop\u001b[0;34m(self, item)\u001b[0m\n\u001b[1;32m    659\u001b[0m \u001b[0;34m\u001b[0m\u001b[0m\n\u001b[1;32m    660\u001b[0m     \u001b[0;32mdef\u001b[0m \u001b[0mpop\u001b[0m\u001b[0;34m(\u001b[0m\u001b[0mself\u001b[0m\u001b[0;34m,\u001b[0m \u001b[0mitem\u001b[0m\u001b[0;34m:\u001b[0m \u001b[0mLabel\u001b[0m\u001b[0;34m)\u001b[0m \u001b[0;34m->\u001b[0m \u001b[0mUnion\u001b[0m\u001b[0;34m[\u001b[0m\u001b[0;34m\"Series\"\u001b[0m\u001b[0;34m,\u001b[0m \u001b[0mAny\u001b[0m\u001b[0;34m]\u001b[0m\u001b[0;34m:\u001b[0m\u001b[0;34m\u001b[0m\u001b[0;34m\u001b[0m\u001b[0m\n\u001b[0;32m--> 661\u001b[0;31m         \u001b[0mresult\u001b[0m \u001b[0;34m=\u001b[0m \u001b[0mself\u001b[0m\u001b[0;34m[\u001b[0m\u001b[0mitem\u001b[0m\u001b[0;34m]\u001b[0m\u001b[0;34m\u001b[0m\u001b[0;34m\u001b[0m\u001b[0m\n\u001b[0m\u001b[1;32m    662\u001b[0m         \u001b[0;32mdel\u001b[0m \u001b[0mself\u001b[0m\u001b[0;34m[\u001b[0m\u001b[0mitem\u001b[0m\u001b[0;34m]\u001b[0m\u001b[0;34m\u001b[0m\u001b[0;34m\u001b[0m\u001b[0m\n\u001b[1;32m    663\u001b[0m         \u001b[0;32mif\u001b[0m \u001b[0mself\u001b[0m\u001b[0;34m.\u001b[0m\u001b[0mndim\u001b[0m \u001b[0;34m==\u001b[0m \u001b[0;36m2\u001b[0m\u001b[0;34m:\u001b[0m\u001b[0;34m\u001b[0m\u001b[0;34m\u001b[0m\u001b[0m\n",
            "\u001b[0;32m/usr/local/lib/python3.7/dist-packages/pandas/core/frame.py\u001b[0m in \u001b[0;36m__getitem__\u001b[0;34m(self, key)\u001b[0m\n\u001b[1;32m   2904\u001b[0m             \u001b[0;32mif\u001b[0m \u001b[0mself\u001b[0m\u001b[0;34m.\u001b[0m\u001b[0mcolumns\u001b[0m\u001b[0;34m.\u001b[0m\u001b[0mnlevels\u001b[0m \u001b[0;34m>\u001b[0m \u001b[0;36m1\u001b[0m\u001b[0;34m:\u001b[0m\u001b[0;34m\u001b[0m\u001b[0;34m\u001b[0m\u001b[0m\n\u001b[1;32m   2905\u001b[0m                 \u001b[0;32mreturn\u001b[0m \u001b[0mself\u001b[0m\u001b[0;34m.\u001b[0m\u001b[0m_getitem_multilevel\u001b[0m\u001b[0;34m(\u001b[0m\u001b[0mkey\u001b[0m\u001b[0;34m)\u001b[0m\u001b[0;34m\u001b[0m\u001b[0;34m\u001b[0m\u001b[0m\n\u001b[0;32m-> 2906\u001b[0;31m             \u001b[0mindexer\u001b[0m \u001b[0;34m=\u001b[0m \u001b[0mself\u001b[0m\u001b[0;34m.\u001b[0m\u001b[0mcolumns\u001b[0m\u001b[0;34m.\u001b[0m\u001b[0mget_loc\u001b[0m\u001b[0;34m(\u001b[0m\u001b[0mkey\u001b[0m\u001b[0;34m)\u001b[0m\u001b[0;34m\u001b[0m\u001b[0;34m\u001b[0m\u001b[0m\n\u001b[0m\u001b[1;32m   2907\u001b[0m             \u001b[0;32mif\u001b[0m \u001b[0mis_integer\u001b[0m\u001b[0;34m(\u001b[0m\u001b[0mindexer\u001b[0m\u001b[0;34m)\u001b[0m\u001b[0;34m:\u001b[0m\u001b[0;34m\u001b[0m\u001b[0;34m\u001b[0m\u001b[0m\n\u001b[1;32m   2908\u001b[0m                 \u001b[0mindexer\u001b[0m \u001b[0;34m=\u001b[0m \u001b[0;34m[\u001b[0m\u001b[0mindexer\u001b[0m\u001b[0;34m]\u001b[0m\u001b[0;34m\u001b[0m\u001b[0;34m\u001b[0m\u001b[0m\n",
            "\u001b[0;32m/usr/local/lib/python3.7/dist-packages/pandas/core/indexes/base.py\u001b[0m in \u001b[0;36mget_loc\u001b[0;34m(self, key, method, tolerance)\u001b[0m\n\u001b[1;32m   2898\u001b[0m                 \u001b[0;32mreturn\u001b[0m \u001b[0mself\u001b[0m\u001b[0;34m.\u001b[0m\u001b[0m_engine\u001b[0m\u001b[0;34m.\u001b[0m\u001b[0mget_loc\u001b[0m\u001b[0;34m(\u001b[0m\u001b[0mcasted_key\u001b[0m\u001b[0;34m)\u001b[0m\u001b[0;34m\u001b[0m\u001b[0;34m\u001b[0m\u001b[0m\n\u001b[1;32m   2899\u001b[0m             \u001b[0;32mexcept\u001b[0m \u001b[0mKeyError\u001b[0m \u001b[0;32mas\u001b[0m \u001b[0merr\u001b[0m\u001b[0;34m:\u001b[0m\u001b[0;34m\u001b[0m\u001b[0;34m\u001b[0m\u001b[0m\n\u001b[0;32m-> 2900\u001b[0;31m                 \u001b[0;32mraise\u001b[0m \u001b[0mKeyError\u001b[0m\u001b[0;34m(\u001b[0m\u001b[0mkey\u001b[0m\u001b[0;34m)\u001b[0m \u001b[0;32mfrom\u001b[0m \u001b[0merr\u001b[0m\u001b[0;34m\u001b[0m\u001b[0;34m\u001b[0m\u001b[0m\n\u001b[0m\u001b[1;32m   2901\u001b[0m \u001b[0;34m\u001b[0m\u001b[0m\n\u001b[1;32m   2902\u001b[0m         \u001b[0;32mif\u001b[0m \u001b[0mtolerance\u001b[0m \u001b[0;32mis\u001b[0m \u001b[0;32mnot\u001b[0m \u001b[0;32mNone\u001b[0m\u001b[0;34m:\u001b[0m\u001b[0;34m\u001b[0m\u001b[0;34m\u001b[0m\u001b[0m\n",
            "\u001b[0;31mKeyError\u001b[0m: 'Class'"
          ]
        }
      ]
    },
    {
      "cell_type": "markdown",
      "metadata": {
        "id": "WsF7W2tQF6N1"
      },
      "source": [
        "Рандомизация выборки"
      ]
    },
    {
      "cell_type": "code",
      "metadata": {
        "id": "9VwRQbdkEOdx"
      },
      "source": [
        "x_stand=[]\n",
        "y_stand=[]\n",
        "for i in range(len(y)):\n",
        "    if y[i]==1:\n",
        "        x_stand.append(x[i])\n",
        "        y_stand.append(1)\n",
        "for r in range(2000):\n",
        "    i=randint(0,len(y)-1)\n",
        "    if y[i]==0:\n",
        "        y_stand.append(0)\n",
        "        x_stand.append(x[i])\n",
        "\n",
        "x_stand=np.array(x_stand)\n",
        "y_stand=np.array(y_stand)"
      ],
      "execution_count": null,
      "outputs": []
    },
    {
      "cell_type": "markdown",
      "metadata": {
        "id": "bKC7jj2NGIKy"
      },
      "source": [
        "Обучение"
      ]
    },
    {
      "cell_type": "code",
      "metadata": {
        "id": "an2sffcfEW9H",
        "colab": {
          "base_uri": "https://localhost:8080/"
        },
        "outputId": "5a613a96-4f9d-4c29-9796-f96ac6bea12e"
      },
      "source": [
        "epochs=90\n",
        "model = keras.Sequential([\n",
        "    keras.layers.Dense(64,input_shape=(13,),activation='relu'),\n",
        "    keras.layers.Dense(128, activation='relu'),\n",
        "    keras.layers.Dense(64,activation='relu'),\n",
        "    keras.layers.Dense(2, activation='softmax')\n",
        "])\n",
        "print(model.summary())"
      ],
      "execution_count": null,
      "outputs": [
        {
          "output_type": "stream",
          "text": [
            "Model: \"sequential_2\"\n",
            "_________________________________________________________________\n",
            "Layer (type)                 Output Shape              Param #   \n",
            "=================================================================\n",
            "dense_8 (Dense)              (None, 64)                896       \n",
            "_________________________________________________________________\n",
            "dense_9 (Dense)              (None, 128)               8320      \n",
            "_________________________________________________________________\n",
            "dense_10 (Dense)             (None, 64)                8256      \n",
            "_________________________________________________________________\n",
            "dense_11 (Dense)             (None, 2)                 130       \n",
            "=================================================================\n",
            "Total params: 17,602\n",
            "Trainable params: 17,602\n",
            "Non-trainable params: 0\n",
            "_________________________________________________________________\n",
            "None\n"
          ],
          "name": "stdout"
        }
      ]
    },
    {
      "cell_type": "code",
      "metadata": {
        "id": "LRXg2jjeEg58",
        "colab": {
          "base_uri": "https://localhost:8080/"
        },
        "outputId": "2b6d9a1c-d480-4a9a-b039-c63e7e8162d7"
      },
      "source": [
        "model.compile(optimizer='Adam',\n",
        "              loss='sparse_categorical_crossentropy',\n",
        "              metrics=['accuracy'])\n",
        "\n",
        "historico=model.fit(x_stand, y_stand, epochs=epochs,validation_split=0.1,verbose=3)"
      ],
      "execution_count": null,
      "outputs": [
        {
          "output_type": "stream",
          "text": [
            "Epoch 1/90\n",
            "Epoch 2/90\n",
            "Epoch 3/90\n",
            "Epoch 4/90\n",
            "Epoch 5/90\n",
            "Epoch 6/90\n",
            "Epoch 7/90\n",
            "Epoch 8/90\n",
            "Epoch 9/90\n",
            "Epoch 10/90\n",
            "Epoch 11/90\n",
            "Epoch 12/90\n",
            "Epoch 13/90\n",
            "Epoch 14/90\n",
            "Epoch 15/90\n",
            "Epoch 16/90\n",
            "Epoch 17/90\n",
            "Epoch 18/90\n",
            "Epoch 19/90\n",
            "Epoch 20/90\n",
            "Epoch 21/90\n",
            "Epoch 22/90\n",
            "Epoch 23/90\n",
            "Epoch 24/90\n",
            "Epoch 25/90\n",
            "Epoch 26/90\n",
            "Epoch 27/90\n",
            "Epoch 28/90\n",
            "Epoch 29/90\n",
            "Epoch 30/90\n",
            "Epoch 31/90\n",
            "Epoch 32/90\n",
            "Epoch 33/90\n",
            "Epoch 34/90\n",
            "Epoch 35/90\n",
            "Epoch 36/90\n",
            "Epoch 37/90\n",
            "Epoch 38/90\n",
            "Epoch 39/90\n",
            "Epoch 40/90\n",
            "Epoch 41/90\n",
            "Epoch 42/90\n",
            "Epoch 43/90\n",
            "Epoch 44/90\n",
            "Epoch 45/90\n",
            "Epoch 46/90\n",
            "Epoch 47/90\n",
            "Epoch 48/90\n",
            "Epoch 49/90\n",
            "Epoch 50/90\n",
            "Epoch 51/90\n",
            "Epoch 52/90\n",
            "Epoch 53/90\n",
            "Epoch 54/90\n",
            "Epoch 55/90\n",
            "Epoch 56/90\n",
            "Epoch 57/90\n",
            "Epoch 58/90\n",
            "Epoch 59/90\n",
            "Epoch 60/90\n",
            "Epoch 61/90\n",
            "Epoch 62/90\n",
            "Epoch 63/90\n",
            "Epoch 64/90\n",
            "Epoch 65/90\n",
            "Epoch 66/90\n",
            "Epoch 67/90\n",
            "Epoch 68/90\n",
            "Epoch 69/90\n",
            "Epoch 70/90\n",
            "Epoch 71/90\n",
            "Epoch 72/90\n",
            "Epoch 73/90\n",
            "Epoch 74/90\n",
            "Epoch 75/90\n",
            "Epoch 76/90\n",
            "Epoch 77/90\n",
            "Epoch 78/90\n",
            "Epoch 79/90\n",
            "Epoch 80/90\n",
            "Epoch 81/90\n",
            "Epoch 82/90\n",
            "Epoch 83/90\n",
            "Epoch 84/90\n",
            "Epoch 85/90\n",
            "Epoch 86/90\n",
            "Epoch 87/90\n",
            "Epoch 88/90\n",
            "Epoch 89/90\n",
            "Epoch 90/90\n"
          ],
          "name": "stdout"
        }
      ]
    },
    {
      "cell_type": "markdown",
      "metadata": {
        "id": "1LYxNQ9LGNnh"
      },
      "source": [
        "Результат после использования для всей выборки"
      ]
    },
    {
      "cell_type": "code",
      "metadata": {
        "id": "UEGyWAcmEqFg",
        "colab": {
          "base_uri": "https://localhost:8080/",
          "height": 279
        },
        "outputId": "a9574a67-bbe1-420e-b0a0-b06ca129e56a"
      },
      "source": [
        "cm = confusion_matrix(y_true=np.array(y), y_pred=np.array([np.argmax(u)for u in model.predict(x)]))\n",
        "plot_confusion_matrix(cm)\n",
        "plt.show()"
      ],
      "execution_count": null,
      "outputs": [
        {
          "output_type": "display_data",
          "data": {
            "image/png": "[encoded data removed]",
            "text/plain": [
              "<Figure size 432x288 with 1 Axes>"
            ]
          },
          "metadata": {
            "tags": [],
            "needs_background": "light"
          }
        }
      ]
    },
    {
      "cell_type": "code",
      "metadata": {
        "id": "cYUMYANNFFHi",
        "colab": {
          "base_uri": "https://localhost:8080/"
        },
        "outputId": "59f93ee3-16dc-4b2c-ccee-49331388bc08"
      },
      "source": [
        "cm"
      ],
      "execution_count": null,
      "outputs": [
        {
          "output_type": "execute_result",
          "data": {
            "text/plain": [
              "array([[     0,   1000],\n",
              "       [     0, 906064]])"
            ]
          },
          "metadata": {
            "tags": []
          },
          "execution_count": 140
        }
      ]
    },
    {
      "cell_type": "code",
      "metadata": {
        "colab": {
          "base_uri": "https://localhost:8080/",
          "height": 456
        },
        "id": "6U7JWWmFDoNv",
        "outputId": "ced1e27c-1f4d-438f-d1f0-7de12ec207fa"
      },
      "source": [
        "data"
      ],
      "execution_count": null,
      "outputs": [
        {
          "output_type": "execute_result",
          "data": {
            "text/html": [
              "<div>\n",
              "<style scoped>\n",
              "    .dataframe tbody tr th:only-of-type {\n",
              "        vertical-align: middle;\n",
              "    }\n",
              "\n",
              "    .dataframe tbody tr th {\n",
              "        vertical-align: top;\n",
              "    }\n",
              "\n",
              "    .dataframe thead th {\n",
              "        text-align: right;\n",
              "    }\n",
              "</style>\n",
              "<table border=\"1\" class=\"dataframe\">\n",
              "  <thead>\n",
              "    <tr style=\"text-align: right;\">\n",
              "      <th></th>\n",
              "      <th>client_id</th>\n",
              "      <th>operation_type</th>\n",
              "      <th>Direction_Of_Transaction</th>\n",
              "      <th>Date_Of_transaction</th>\n",
              "      <th>Summ</th>\n",
              "      <th>currency</th>\n",
              "      <th>summ_inCurrency</th>\n",
              "      <th>currency_of_payment_system</th>\n",
              "      <th>MCC-code_of_transaction</th>\n",
              "      <th>MCC_name_of_transaction</th>\n",
              "      <th>Business_type</th>\n",
              "      <th>ATM_Purpose</th>\n",
              "      <th>ATM_Other_purpose</th>\n",
              "      <th>Card_type</th>\n",
              "      <th>Class</th>\n",
              "    </tr>\n",
              "  </thead>\n",
              "  <tbody>\n",
              "    <tr>\n",
              "      <th>0</th>\n",
              "      <td>0.0</td>\n",
              "      <td>1.0</td>\n",
              "      <td>2.0</td>\n",
              "      <td>3.0</td>\n",
              "      <td>-0.505253</td>\n",
              "      <td>5.0</td>\n",
              "      <td>4.0</td>\n",
              "      <td>5.0</td>\n",
              "      <td>6.0</td>\n",
              "      <td>7.0</td>\n",
              "      <td>8.0</td>\n",
              "      <td>9.0</td>\n",
              "      <td>9.0</td>\n",
              "      <td>10.0</td>\n",
              "      <td>1</td>\n",
              "    </tr>\n",
              "    <tr>\n",
              "      <th>1</th>\n",
              "      <td>0.0</td>\n",
              "      <td>1.0</td>\n",
              "      <td>2.0</td>\n",
              "      <td>12.0</td>\n",
              "      <td>-0.505090</td>\n",
              "      <td>5.0</td>\n",
              "      <td>13.0</td>\n",
              "      <td>5.0</td>\n",
              "      <td>14.0</td>\n",
              "      <td>15.0</td>\n",
              "      <td>16.0</td>\n",
              "      <td>9.0</td>\n",
              "      <td>9.0</td>\n",
              "      <td>10.0</td>\n",
              "      <td>1</td>\n",
              "    </tr>\n",
              "    <tr>\n",
              "      <th>2</th>\n",
              "      <td>17.0</td>\n",
              "      <td>1.0</td>\n",
              "      <td>11.0</td>\n",
              "      <td>18.0</td>\n",
              "      <td>-0.504980</td>\n",
              "      <td>5.0</td>\n",
              "      <td>19.0</td>\n",
              "      <td>5.0</td>\n",
              "      <td>14.0</td>\n",
              "      <td>15.0</td>\n",
              "      <td>20.0</td>\n",
              "      <td>9.0</td>\n",
              "      <td>9.0</td>\n",
              "      <td>10.0</td>\n",
              "      <td>1</td>\n",
              "    </tr>\n",
              "    <tr>\n",
              "      <th>3</th>\n",
              "      <td>17.0</td>\n",
              "      <td>1.0</td>\n",
              "      <td>2.0</td>\n",
              "      <td>21.0</td>\n",
              "      <td>-0.504926</td>\n",
              "      <td>5.0</td>\n",
              "      <td>23.0</td>\n",
              "      <td>5.0</td>\n",
              "      <td>24.0</td>\n",
              "      <td>25.0</td>\n",
              "      <td>26.0</td>\n",
              "      <td>9.0</td>\n",
              "      <td>9.0</td>\n",
              "      <td>10.0</td>\n",
              "      <td>1</td>\n",
              "    </tr>\n",
              "    <tr>\n",
              "      <th>4</th>\n",
              "      <td>17.0</td>\n",
              "      <td>1.0</td>\n",
              "      <td>11.0</td>\n",
              "      <td>27.0</td>\n",
              "      <td>-0.504817</td>\n",
              "      <td>5.0</td>\n",
              "      <td>28.0</td>\n",
              "      <td>5.0</td>\n",
              "      <td>14.0</td>\n",
              "      <td>15.0</td>\n",
              "      <td>20.0</td>\n",
              "      <td>9.0</td>\n",
              "      <td>9.0</td>\n",
              "      <td>10.0</td>\n",
              "      <td>1</td>\n",
              "    </tr>\n",
              "    <tr>\n",
              "      <th>...</th>\n",
              "      <td>...</td>\n",
              "      <td>...</td>\n",
              "      <td>...</td>\n",
              "      <td>...</td>\n",
              "      <td>...</td>\n",
              "      <td>...</td>\n",
              "      <td>...</td>\n",
              "      <td>...</td>\n",
              "      <td>...</td>\n",
              "      <td>...</td>\n",
              "      <td>...</td>\n",
              "      <td>...</td>\n",
              "      <td>...</td>\n",
              "      <td>...</td>\n",
              "      <td>...</td>\n",
              "    </tr>\n",
              "    <tr>\n",
              "      <th>935551</th>\n",
              "      <td>252629.0</td>\n",
              "      <td>1.0</td>\n",
              "      <td>2.0</td>\n",
              "      <td>249738.0</td>\n",
              "      <td>4.086183</td>\n",
              "      <td>5.0</td>\n",
              "      <td>252631.0</td>\n",
              "      <td>252631.0</td>\n",
              "      <td>14.0</td>\n",
              "      <td>15.0</td>\n",
              "      <td>251545.0</td>\n",
              "      <td>9.0</td>\n",
              "      <td>9.0</td>\n",
              "      <td>10.0</td>\n",
              "      <td>0</td>\n",
              "    </tr>\n",
              "    <tr>\n",
              "      <th>935552</th>\n",
              "      <td>252632.0</td>\n",
              "      <td>1.0</td>\n",
              "      <td>2.0</td>\n",
              "      <td>250467.0</td>\n",
              "      <td>4.086238</td>\n",
              "      <td>5.0</td>\n",
              "      <td>252634.0</td>\n",
              "      <td>252634.0</td>\n",
              "      <td>14.0</td>\n",
              "      <td>15.0</td>\n",
              "      <td>251545.0</td>\n",
              "      <td>9.0</td>\n",
              "      <td>9.0</td>\n",
              "      <td>10.0</td>\n",
              "      <td>0</td>\n",
              "    </tr>\n",
              "    <tr>\n",
              "      <th>935553</th>\n",
              "      <td>252635.0</td>\n",
              "      <td>1.0</td>\n",
              "      <td>2.0</td>\n",
              "      <td>250157.0</td>\n",
              "      <td>4.086292</td>\n",
              "      <td>5.0</td>\n",
              "      <td>252637.0</td>\n",
              "      <td>252637.0</td>\n",
              "      <td>14.0</td>\n",
              "      <td>15.0</td>\n",
              "      <td>251545.0</td>\n",
              "      <td>9.0</td>\n",
              "      <td>9.0</td>\n",
              "      <td>10.0</td>\n",
              "      <td>0</td>\n",
              "    </tr>\n",
              "    <tr>\n",
              "      <th>935554</th>\n",
              "      <td>252638.0</td>\n",
              "      <td>1.0</td>\n",
              "      <td>2.0</td>\n",
              "      <td>249548.0</td>\n",
              "      <td>4.086347</td>\n",
              "      <td>5.0</td>\n",
              "      <td>252640.0</td>\n",
              "      <td>252640.0</td>\n",
              "      <td>14.0</td>\n",
              "      <td>15.0</td>\n",
              "      <td>251545.0</td>\n",
              "      <td>9.0</td>\n",
              "      <td>9.0</td>\n",
              "      <td>10.0</td>\n",
              "      <td>0</td>\n",
              "    </tr>\n",
              "    <tr>\n",
              "      <th>935555</th>\n",
              "      <td>252641.0</td>\n",
              "      <td>1.0</td>\n",
              "      <td>2.0</td>\n",
              "      <td>249738.0</td>\n",
              "      <td>4.086401</td>\n",
              "      <td>5.0</td>\n",
              "      <td>252643.0</td>\n",
              "      <td>252643.0</td>\n",
              "      <td>14.0</td>\n",
              "      <td>15.0</td>\n",
              "      <td>251545.0</td>\n",
              "      <td>9.0</td>\n",
              "      <td>9.0</td>\n",
              "      <td>10.0</td>\n",
              "      <td>0</td>\n",
              "    </tr>\n",
              "  </tbody>\n",
              "</table>\n",
              "<p>907064 rows × 15 columns</p>\n",
              "</div>"
            ],
            "text/plain": [
              "        client_id  operation_type  ...  Card_type  Class\n",
              "0             0.0             1.0  ...       10.0      1\n",
              "1             0.0             1.0  ...       10.0      1\n",
              "2            17.0             1.0  ...       10.0      1\n",
              "3            17.0             1.0  ...       10.0      1\n",
              "4            17.0             1.0  ...       10.0      1\n",
              "...           ...             ...  ...        ...    ...\n",
              "935551   252629.0             1.0  ...       10.0      0\n",
              "935552   252632.0             1.0  ...       10.0      0\n",
              "935553   252635.0             1.0  ...       10.0      0\n",
              "935554   252638.0             1.0  ...       10.0      0\n",
              "935555   252641.0             1.0  ...       10.0      0\n",
              "\n",
              "[907064 rows x 15 columns]"
            ]
          },
          "metadata": {
            "tags": []
          },
          "execution_count": 141
        }
      ]
    }
  ]
}